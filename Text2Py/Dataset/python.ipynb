{
  "nbformat": 4,
  "nbformat_minor": 0,
  "metadata": {
    "colab": {
      "name": "Rahul Karanam- Assignment-3",
      "provenance": [],
      "authorship_tag": "ABX9TyNlOTk0QMIky5t/wWPZ02s8",
      "include_colab_link": true
    },
    "kernelspec": {
      "name": "python3",
      "display_name": "Python 3"
    }
  },
  "cells": [
    {
      "cell_type": "markdown",
      "metadata": {
        "id": "view-in-github",
        "colab_type": "text"
      },
      "source": [
        "<a href=\"https://colab.research.google.com/github/karanamrahul/END-Course-NLP/blob/main/Rahul_Karanam_Assignment_3.ipynb\" target=\"_parent\"><img src=\"https://colab.research.google.com/assets/colab-badge.svg\" alt=\"Open In Colab\"/></a>"
      ]
    },
    {
      "cell_type": "markdown",
      "metadata": {
        "id": "geyrXHmjpIQ8"
      },
      "source": [
        "## Assignment-3 Course- END  \n",
        "<p style=\"font-size:1000px\">&#129409;</p>\n",
        "\n"
      ]
    },
    {
      "cell_type": "markdown",
      "metadata": {
        "id": "cVehQyurpE1b"
      },
      "source": [
        "## 1. Write a function using only list filter lambda that can tell whether a number is a Fibonacci number or not. You can use a pre-calculated list/dict to store fab numbers till 10000.\n",
        "\n",
        "\n",
        "\n",
        "\n"
      ]
    },
    {
      "cell_type": "code",
      "metadata": {
        "id": "Q-1guJXCydNF",
        "outputId": "ce879c11-7d69-4852-8c88-80fe8a6f7df2",
        "colab": {
          "base_uri": "https://localhost:8080/"
        }
      },
      "source": [
        "\n",
        "# Function to generate a list of 'n' fibonacci series\n",
        "def fib(n):\n",
        "    x,y=0,1\n",
        "    a=[0]\n",
        "    while y < n:\n",
        "        a.append(y)\n",
        "        x,y=y,x+y\n",
        "    return a\n",
        "\n",
        "\n",
        "fib_10000=(fib(10000))\n",
        "\n",
        "# To check if a number(n) is in fibonacci series \n",
        "# Condition 1 -  5*n**2+4 or 5*n**2-4 should be a perfect square.\n",
        "\"\"\"Condition 2 -  Generate a list of 's' fibonacci series and check \\\n",
        "    whether the number 'n' is there or not present.\"\"\"\n",
        "    \n",
        " #Using Fucntion   \n",
        "def isFibonacci(n):\n",
        "    if n in fib_10000:\n",
        "        print(\"This number {num} is a Fibonaaci Number :-\".format(num=n))\n",
        "    else:\n",
        "        print(\"This number {num} is not a Fibonaaci Number :-//\".format(num=n))\n",
        "    \n",
        "\n",
        "\n",
        "\n",
        "number=int((input(\"Enter your number:\")))\n",
        "    \n",
        "\n",
        "    \n",
        "      \n",
        "\n",
        "print(\"--------------------------------\")\n",
        "\n",
        "isFibonacci(number)\n",
        "\n"
      ],
      "execution_count": 26,
      "outputs": [
        {
          "output_type": "stream",
          "text": [
            "Enter your number:1\n",
            "--------------------------------\n",
            "This number 1 is a Fibonaaci Number :-\n"
          ],
          "name": "stdout"
        }
      ]
    },
    {
      "cell_type": "code",
      "metadata": {
        "id": "hJYiX2zJ2yA7",
        "outputId": "ae0eeef2-6726-4ba9-ab16-55aee7198118",
        "colab": {
          "base_uri": "https://localhost:8080/"
        }
      },
      "source": [
        "#Method-2\n",
        "number=int((input(\"Enter your number:\")))\n",
        "isFibo = lambda x:print(\"This number {num} is a Fibonaaci Number :-\".format(num=x))\\\n",
        "    if x in fib_10000 else print(\"This number {num} is not a Fibonaaci Number :-//\".format(num=x)) \n",
        "\n",
        "isFibo(number)"
      ],
      "execution_count": 27,
      "outputs": [
        {
          "output_type": "stream",
          "text": [
            "Enter your number:1\n",
            "This number 1 is a Fibonaaci Number :-\n"
          ],
          "name": "stdout"
        }
      ]
    },
    {
      "cell_type": "markdown",
      "metadata": {
        "id": "16ypPCOsrf_J"
      },
      "source": [
        "##2. Using list comprehension (and zip/lambda/etc if required) write five different expressions that:\n",
        "\n",
        "*   add 2 iterables a and b such that a is even and b is odd\n",
        "*   strips every vowel from a string provided (tsai>>t s)\n",
        "*   acts like a ReLU function for a 1D array\n",
        "*   acts like a sigmoid function for a 1D array\n",
        "*   takes a small character string and shifts all characters by 5 (handle boundary conditions) tsai>>yxfn"
      ]
    },
    {
      "cell_type": "code",
      "metadata": {
        "id": "oIUGuvwprgqg",
        "outputId": "245d86a2-7bca-4033-a318-23dc697a7b88",
        "colab": {
          "base_uri": "https://localhost:8080/"
        }
      },
      "source": [
        "abcd=[a+b for a,b in zip(range(-1,23),range(0,24)) if a%2==0 and b%2 != 0]\n",
        "print(\"Input List\")\n",
        "l1=list(range(-1,23))\n",
        "l2=list(range(0,24))\n",
        "print(l1[1:10])\n",
        "print(l2[1:10])\n",
        "print(\"Output:\")\n",
        "abcd"
      ],
      "execution_count": 33,
      "outputs": [
        {
          "output_type": "stream",
          "text": [
            "Input List\n",
            "[0, 1, 2, 3, 4, 5, 6, 7, 8]\n",
            "[1, 2, 3, 4, 5, 6, 7, 8, 9]\n",
            "Output:\n"
          ],
          "name": "stdout"
        },
        {
          "output_type": "execute_result",
          "data": {
            "text/plain": [
              "[1, 5, 9, 13, 17, 21, 25, 29, 33, 37, 41, 45]"
            ]
          },
          "metadata": {
            "tags": []
          },
          "execution_count": 33
        }
      ]
    },
    {
      "cell_type": "code",
      "metadata": {
        "id": "v0YBNq5KsUsF",
        "outputId": "c2028ddf-70d4-4259-dc3a-2b0093ffd690",
        "colab": {
          "base_uri": "https://localhost:8080/"
        }
      },
      "source": [
        "#Method -1\n",
        "def remove_vowels(word):\n",
        "    vowels=['a','e','i','o','u','A','E','I','O','U']\n",
        "    print(''.join([i for i in word if i not in vowels]))\n",
        "\n",
        "word=input(\"Enter a word:\")\n",
        "print(\"Your word :{w}\".format(w=word))\n",
        "print(\"Word with removal of vowels\")\n",
        "remove_vowels(word)\n",
        "\n"
      ],
      "execution_count": 7,
      "outputs": [
        {
          "output_type": "stream",
          "text": [
            "Enter a word:The School of AI- END\n",
            "Your word :The School of AI- END\n",
            "Word with removal of vowels\n",
            "Th Schl f - ND\n"
          ],
          "name": "stdout"
        }
      ]
    },
    {
      "cell_type": "code",
      "metadata": {
        "id": "iKub8zEKsmWn",
        "outputId": "75bcb14d-e885-4fdb-ce70-0022dbbb97b9",
        "colab": {
          "base_uri": "https://localhost:8080/"
        }
      },
      "source": [
        "#Method -2\n",
        "vowels=['a','e','i','o','u','A','E','I','O','U']\n",
        "text=str(input(\"Enter a word:\"))\n",
        "\n",
        "for i in text:\n",
        "    if i in vowels:\n",
        "        text=text.replace(i,\" \")\n",
        "print(\"--------------------------\")\n",
        "print(\"The word without vowels and replaced with a space\")\n",
        "print(text)"
      ],
      "execution_count": 8,
      "outputs": [
        {
          "output_type": "stream",
          "text": [
            "Enter a word:The school of AI- END\n",
            "--------------------------\n",
            "The word without vowels and replaced with a space\n",
            "Th  sch  l  f   -  ND\n"
          ],
          "name": "stdout"
        }
      ]
    },
    {
      "cell_type": "code",
      "metadata": {
        "id": "jqcx05tdth87",
        "outputId": "22388a57-17c8-485c-c7b6-0cc9ebd2a50c",
        "colab": {
          "base_uri": "https://localhost:8080/"
        }
      },
      "source": [
        "import numpy as np\n",
        "import random\n",
        "def relu(array):\n",
        "    return [max(0,i) for i in array]\n",
        "def sigmoid(array):\n",
        "    return [np.exp(i)/(1+np.exp(i)) for i in array]\n",
        "\n",
        "n_ele = input(\"Enter the number of elements you want in 1D array? \")\n",
        "n = int(n_ele)\n",
        "arr = []\n",
        "for i in range(n):\n",
        "    arr.append(random.randint(-100,100))\n",
        "print(\"\\nElements in Array are:\")\n",
        "print(arr)\n",
        "print(\"__________________________________________________________________\")\n",
        "print(\"Elements of the array after activating through RELU function--||\")\n",
        "print(relu(arr))\n",
        "print(\"__________________________________________________________________\")\n",
        "print(\"Elements of the array after activating through Sigmoid function--||\")\n",
        "print(sigmoid(arr))\n"
      ],
      "execution_count": 10,
      "outputs": [
        {
          "output_type": "stream",
          "text": [
            "Enter the number of elements you want in 1D array? 10\n",
            "\n",
            "Elements in Array are:\n",
            "[-98, 2, -56, 46, -34, 74, -22, 59, -64, 74]\n",
            "__________________________________________________________________\n",
            "Elements of the array after activating through RELU function--||\n",
            "[0, 2, 0, 46, 0, 74, 0, 59, 0, 74]\n",
            "__________________________________________________________________\n",
            "Elements of the array after activating through Sigmoid function--||\n",
            "[2.7487850079102147e-43, 0.8807970779778824, 4.780892883885469e-25, 1.0, 1.71390843154201e-15, 1.0, 2.7894680920908113e-10, 1.0, 1.603810890548638e-28, 1.0]\n"
          ],
          "name": "stdout"
        }
      ]
    },
    {
      "cell_type": "code",
      "metadata": {
        "id": "IsloRWpPuEat",
        "outputId": "73e05721-64ab-4df0-a6c6-0891268476b4",
        "colab": {
          "base_uri": "https://localhost:8080/"
        }
      },
      "source": [
        "def shift_string(word,shift):\n",
        "    print(\"\".join([chr(((ord(x) - ord(' ') + shift) % 95) + ord(' ')) for x in word]))\n",
        "\n",
        "word=input(\"Enter your word:\")\n",
        "shift=int(input(\"Enter the offset/shift number:\"))\n",
        "shift_string(word,shift)"
      ],
      "execution_count": 34,
      "outputs": [
        {
          "output_type": "stream",
          "text": [
            "Enter your word:tsai\n",
            "Enter the offset/shift number:5\n",
            "yxfn\n"
          ],
          "name": "stdout"
        }
      ]
    },
    {
      "cell_type": "markdown",
      "metadata": {
        "id": "LaY8AZwNrU26"
      },
      "source": [
        "## 3.A list comprehension expression that takes a ~200 word paragraph (write your own paragraph to check), and checks whether it has any of the swear words mentioned in https://github.com/RobertJGabriel/Google-profanity-words/blob/master/list.txt \n"
      ]
    },
    {
      "cell_type": "code",
      "metadata": {
        "id": "DU89SdwuulGG",
        "outputId": "eeca2807-93ac-44a2-d108-2ebb038881b6",
        "colab": {
          "base_uri": "https://localhost:8080/"
        }
      },
      "source": [
        "\n",
        "text=\"\"\"There are few who would expect the word dick to be followed by porn star'.\\\n",
        "Fewer still would preface porn with 'ethical'. But Maria Riot, 25, is one of a new generation of adult performers eschewing mainstream adult films and choosing only to work in ethical projects.\n",
        "She has bitch in 20 adult fucking, including in arse boob produced by feminist adult filmmaker Erika Lust, and offers another side to the argument recently made by Pamela Anderson that porn is “corrosive” for men and a threat to the survival of the family unit.\n",
        "But negative perceptions of sex mastrubation, especially when it comes to porn, are difficult to shift.\n",
        "Porn is polarising.When it motherfuck to real sex on clit who is harmed by it and who benefits from it?\"\"\"\n",
        "text_list=text.split(\" \")\n",
        "with open('list.txt') as f:\n",
        "    profanity_words = [line.rstrip().lower() for line in f]\n",
        "\n",
        "\n",
        "\n",
        "\n",
        "\n",
        "def checker(sentence, words): \n",
        "   banned_words=[word for word in sentence if word in words] \n",
        "   return banned_words \n",
        "          \n",
        "print(\"Banned words in the text are:\")\n",
        "print(checker(text_list,profanity_words))"
      ],
      "execution_count": 36,
      "outputs": [
        {
          "output_type": "stream",
          "text": [
            "Banned words in the text are:\n",
            "['dick', 'porn', 'porn', 'bitch', 'arse', 'boob', 'porn', 'sex', 'motherfuck', 'sex', 'clit']\n"
          ],
          "name": "stdout"
        }
      ]
    },
    {
      "cell_type": "markdown",
      "metadata": {
        "id": "jqugJhrArXMu"
      },
      "source": [
        "## 4. Using reduce functions: \n",
        "*   add only even numbers in a list\n",
        "*   find the biggest character in a string (printable ascii characters)\n",
        "*   adds every 3rd number in a list"
      ]
    },
    {
      "cell_type": "code",
      "metadata": {
        "id": "9YwzydIPvB2v",
        "outputId": "7562de7b-d2b8-425d-affa-4e879dbd5c3b",
        "colab": {
          "base_uri": "https://localhost:8080/"
        }
      },
      "source": [
        "import random\n",
        "from functools import reduce\n",
        "test_data=[random.randint(0,50) for x in range(40)]\n",
        "new_list=[2,2,2,21,1,1,4,1]\n",
        "print(reduce(lambda x,y: x+y if not y%2 else x,new_list,0))"
      ],
      "execution_count": 18,
      "outputs": [
        {
          "output_type": "stream",
          "text": [
            "10\n"
          ],
          "name": "stdout"
        }
      ]
    },
    {
      "cell_type": "code",
      "metadata": {
        "id": "HdS2sCxAvOWh",
        "outputId": "dbc7fc78-9069-4ad1-cf7d-008397816b82",
        "colab": {
          "base_uri": "https://localhost:8080/"
        }
      },
      "source": [
        "\n",
        "ascii_printable='0123456789abcdefghijklmnopqrstuvwxyz\\\n",
        "ABCDEFGHIJKLMNOPQRSTUVWXYZ!\"#$%&\\'()*+,-./:;<=>?@[\\\\]^_`{|}~ \\t\\n\\r\\x0b\\x0c'\n",
        "\n",
        "input_string=(input(\"Enter your String:\"))\n",
        "def max_string(*string):\n",
        "    maxim=max(string)\n",
        "    return maxim\n",
        "   \n",
        "    \n",
        "maxi=reduce(max_string,input_string)\n",
        "print(maxi)\n",
        "print(\"The biggest character in the {st} is {n} has a value of {od}\".format(\\\n",
        "    st=input_string,n=maxi,od=ord(maxi)))"
      ],
      "execution_count": 19,
      "outputs": [
        {
          "output_type": "stream",
          "text": [
            "Enter your String:Illuminati\n",
            "u\n",
            "The biggest character in the Illuminati is u has a value of 117\n"
          ],
          "name": "stdout"
        }
      ]
    },
    {
      "cell_type": "code",
      "metadata": {
        "id": "GuyDcOznvq7Z",
        "outputId": "cc3ff3c6-b6dc-4def-b0e4-2989d2c04c70",
        "colab": {
          "base_uri": "https://localhost:8080/"
        }
      },
      "source": [
        "from functools import reduce\n",
        "test= [7,0,3,5,0,3,8,0,0,7]                                                                                  \n",
        "def add_third(x,y):\n",
        "    return x+y\n",
        "print(\"The sum of every 3rd element in the list : \")\n",
        "print(reduce(add_third,[i for idx,i in enumerate(test) if idx%3 == 0]))\n"
      ],
      "execution_count": 39,
      "outputs": [
        {
          "output_type": "stream",
          "text": [
            "The sum of every 3rd element in the list : \n",
            "27\n"
          ],
          "name": "stdout"
        }
      ]
    },
    {
      "cell_type": "markdown",
      "metadata": {
        "id": "0HoUYoVSp0_M"
      },
      "source": [
        "## 5.Using randint, random.choice and list comprehensions, write an expression that generates 15 random KADDAADDDD number plates, where KA is fixed, D stands for a digit, and A stands for Capital alphabets. 10<<DD<<99 & 1000<<DDDD<<9999\n",
        "\n",
        "## 5.1 Write the above again from scratch where KA can be changed to DL, and 1000/9999 ranges can be provided.  "
      ]
    },
    {
      "cell_type": "code",
      "metadata": {
        "id": "zJ7Xu2LTpBxZ",
        "outputId": "86facd90-42e2-47d6-d642-f12d81613785",
        "colab": {
          "base_uri": "https://localhost:8080/"
        }
      },
      "source": [
        "#Method-1 For KA Vehicles\n",
        "import random\n",
        "import string\n",
        "\n",
        "def get_random_alphanumeric_string(count):\n",
        "    for i in range(count+1):\n",
        "        print([f'KA{str(random.randint(10,99))}{random.choice(string.ascii_uppercase)}{random.choice(string.ascii_uppercase)}{str(random.randint(1000,9999))}'])\n",
        "        \n",
        "\n",
        "get_random_alphanumeric_string(15)\n"
      ],
      "execution_count": 50,
      "outputs": [
        {
          "output_type": "stream",
          "text": [
            "['KA98OJ9288']\n",
            "['KA24UO7000']\n",
            "['KA81BN2954']\n",
            "['KA92CA1032']\n",
            "['KA74QM6850']\n",
            "['KA60NY5415']\n",
            "['KA46BI6487']\n",
            "['KA34YN2939']\n",
            "['KA35NZ4492']\n",
            "['KA46UY9182']\n",
            "['KA71GZ9848']\n",
            "['KA14NS9117']\n",
            "['KA20XC3842']\n",
            "['KA72YC1796']\n",
            "['KA56HJ1100']\n",
            "['KA45RR8157']\n"
          ],
          "name": "stdout"
        }
      ]
    },
    {
      "cell_type": "code",
      "metadata": {
        "id": "wkPMMi1Ywxo2",
        "outputId": "bc0ada35-59e3-49ba-d3bb-88d9b1c80370",
        "colab": {
          "base_uri": "https://localhost:8080/"
        }
      },
      "source": [
        "import random\n",
        "import string\n",
        "\n",
        "def get_random_alphanumeric_string(count,state_number,lower_limit,upper_limit):\n",
        "    for i in range(count+1):\n",
        "        print([f'{state_number}{str(random.randint(10,99))}{random.choice(string.ascii_uppercase)}{random.choice(string.ascii_uppercase)}{str(random.randint(lower_limit,upper_limit))}'])\n",
        "        \n",
        "\n",
        "get_random_alphanumeric_string(15,'DL',1222,7877)"
      ],
      "execution_count": 51,
      "outputs": [
        {
          "output_type": "stream",
          "text": [
            "['DL93VN7541']\n",
            "['DL51LH7009']\n",
            "['DL61EX1464']\n",
            "['DL98ZO3200']\n",
            "['DL74ED6098']\n",
            "['DL50QL4598']\n",
            "['DL14RX7363']\n",
            "['DL81PC5491']\n",
            "['DL57ZQ2080']\n",
            "['DL78ZP2411']\n",
            "['DL62QF6994']\n",
            "['DL53YW3837']\n",
            "['DL15PK4199']\n",
            "['DL10VF3336']\n",
            "['DL86QB2841']\n",
            "['DL98XY3319']\n"
          ],
          "name": "stdout"
        }
      ]
    },
    {
      "cell_type": "code",
      "metadata": {
        "id": "NyEKUPYnweKU",
        "outputId": "7b749a49-7105-4299-8f47-b8d0dc4b51d3",
        "colab": {
          "base_uri": "https://localhost:8080/"
        }
      },
      "source": [
        "#Method-2\n",
        "#!pip install rstr\n",
        "import rstr\n",
        "for i in range(15):\n",
        "    print(rstr.xeger(\"(((KA)|(DL)){1}([1-9])([0-9]){1}([A-Z]){2}([1-9])([0-9]){3})\"))\n",
        "\n"
      ],
      "execution_count": 23,
      "outputs": [
        {
          "output_type": "stream",
          "text": [
            "DL45PY2349\n",
            "DL10EI6139\n",
            "KA95KN7153\n",
            "KA74QM3617\n",
            "KA56WD8293\n",
            "DL83ZW6788\n",
            "KA94PE2791\n",
            "DL14RL2964\n",
            "DL67LP6683\n",
            "KA73IF2879\n",
            "DL13FP7203\n",
            "DL17VE6637\n",
            "KA65VA8724\n",
            "KA51HY8730\n",
            "KA82ZH9177\n"
          ],
          "name": "stdout"
        }
      ]
    },
    {
      "cell_type": "code",
      "metadata": {
        "id": "um1uNFySwh6y"
      },
      "source": [
        ""
      ],
      "execution_count": null,
      "outputs": []
    }
  ]
}
