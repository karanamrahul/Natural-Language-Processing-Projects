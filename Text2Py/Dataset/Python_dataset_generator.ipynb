{
  "nbformat": 4,
  "nbformat_minor": 0,
  "metadata": {
    "colab": {
      "name": "Dataset-python program generator.ipynb",
      "provenance": [],
      "authorship_tag": "ABX9TyM/xK4YvJOU2yCMXu0dlPAZ",
      "include_colab_link": true
    },
    "kernelspec": {
      "name": "python3",
      "display_name": "Python 3"
    }
  },
  "cells": [
    {
      "cell_type": "markdown",
      "metadata": {
        "id": "view-in-github",
        "colab_type": "text"
      },
      "source": [
        "<a href=\"https://colab.research.google.com/github/karanamrahul/END-Course-NLP/blob/main/TASK%20-2%20Dataset_python_program_generator.ipynb\" target=\"_parent\"><img src=\"https://colab.research.google.com/assets/colab-badge.svg\" alt=\"Open In Colab\"/></a>"
      ]
    },
    {
      "cell_type": "code",
      "metadata": {
        "id": "euYXos8vKZQ8"
      },
      "source": [
        "# write a python function to return the age of a person when user inputs  date of birth.\r\n",
        "\r\n",
        "from datetime import date\r\n",
        "def predict_age(dob):\r\n",
        "    present=date.today()\r\n",
        "    age=int(present.year)-dob\r\n",
        "    return age\r\n",
        "\r\n"
      ],
      "execution_count": 184,
      "outputs": []
    },
    {
      "cell_type": "code",
      "metadata": {
        "id": "a-1EKLcrKrzq"
      },
      "source": [
        "# Write a program to return harmonic mean of numbers in the sequence list-n.\r\n",
        "def harmonic_mean(n):\r\n",
        "    n = len(n)\r\n",
        "    terms = [1/n[i] for i in range(0,k)]\r\n",
        "    result = k/sum(terms)\r\n",
        "    return result"
      ],
      "execution_count": 185,
      "outputs": []
    },
    {
      "cell_type": "code",
      "metadata": {
        "id": "913nMw-gPSgz"
      },
      "source": [
        "# Write a python function to determine a user defined input is a perfect square or not\r\n",
        "def is_square(n):\r\n",
        "    if round(n**0.5)**2 == n:\r\n",
        "        return True\r\n",
        "    else:\r\n",
        "        return False"
      ],
      "execution_count": 186,
      "outputs": []
    },
    {
      "cell_type": "code",
      "metadata": {
        "id": "PyZyD9iERiqf"
      },
      "source": [
        "# write a program to concatenate the first letter of every word in a list N\r\n",
        "def concat_first_char(N):\r\n",
        "  text=\"\"\r\n",
        "  for i in N:\r\n",
        "    text+=i[0]\r\n",
        "  return text"
      ],
      "execution_count": 187,
      "outputs": []
    },
    {
      "cell_type": "code",
      "metadata": {
        "colab": {
          "base_uri": "https://localhost:8080/",
          "height": 35
        },
        "id": "TB-dae0bSpPK",
        "outputId": "9813bc4c-e610-45f1-eba7-e73c73958dd2"
      },
      "source": [
        "#  write a function to find and remove the first and last occurance of a character/string\r\n",
        "#string=\"Rahul Kauanam\"\r\n",
        "# char_to_remove=\"u\"\r\n",
        "# output = \"Rahanam\"\r\n",
        "\r\n",
        "def remove_charocc(text,letter):\r\n",
        "  first=text.find(letter)\r\n",
        "  last=text.rfind(letter)\r\n",
        "  result=text[:first]+text[last+1:]\r\n",
        "  return result\r\n",
        "remove_charocc(\"Meena is better than GPT-3\",'a')"
      ],
      "execution_count": 188,
      "outputs": [
        {
          "output_type": "execute_result",
          "data": {
            "application/vnd.google.colaboratory.intrinsic+json": {
              "type": "string"
            },
            "text/plain": [
              "'Meenn GPT-3'"
            ]
          },
          "metadata": {
            "tags": []
          },
          "execution_count": 188
        }
      ]
    },
    {
      "cell_type": "code",
      "metadata": {
        "colab": {
          "base_uri": "https://localhost:8080/"
        },
        "id": "uXyOFk0fUiOq",
        "outputId": "eccff6f8-5ad5-4b65-d57b-1b5f9406d422"
      },
      "source": [
        "# write a program to find and print the longest string among three strings\r\n",
        "\r\n",
        "str1 = \"Rahul\"\r\n",
        "str2 = \"Hey Mom\"\r\n",
        "str3 = \"Mama Boy\"\r\n",
        "if (len(str1) >= len(str2)) and (len(str1) >= len(str3)):\r\n",
        "   largest = str1\r\n",
        "elif (len(str2) >= len(str1)) and (len(str2) >= len(str3)):\r\n",
        "   largest = str2\r\n",
        "else:\r\n",
        "   largest = str3\r\n",
        "print(f'largest:{largest}')"
      ],
      "execution_count": 189,
      "outputs": [
        {
          "output_type": "stream",
          "text": [
            "largest:Mama Boy\n"
          ],
          "name": "stdout"
        }
      ]
    },
    {
      "cell_type": "code",
      "metadata": {
        "id": "QH4jxQACVLho"
      },
      "source": [
        "# write a python function to trim user provided string and return the trimmed string without whitespaces\r\n",
        "def trim_string(text):\r\n",
        "    trimmed=text.strip()\r\n",
        "    return trimmed"
      ],
      "execution_count": 190,
      "outputs": []
    },
    {
      "cell_type": "code",
      "metadata": {
        "id": "cVZitaI7enQu"
      },
      "source": [
        "# write a python function to trim only left side of the user provided string and return the trimmed string without whitespaces\r\n",
        "def trim_left(text):\r\n",
        "    trimmed=text.lstrip()\r\n",
        "    return trimmed"
      ],
      "execution_count": 191,
      "outputs": []
    },
    {
      "cell_type": "code",
      "metadata": {
        "id": "ELrE1q-DerwT"
      },
      "source": [
        "# write a python function to trim only right side of the user provided string and return the trimmed string without whitespaces\r\n",
        "def trim_right(text):\r\n",
        "    trimmed=text.rstrip()\r\n",
        "    return trimmed"
      ],
      "execution_count": 192,
      "outputs": []
    },
    {
      "cell_type": "code",
      "metadata": {
        "id": "Mhyry-V3d_zv"
      },
      "source": [
        "# Write a Python program to count the number of characters (frequency) in a string.\r\n",
        "def count_char(text):\r\n",
        "  dic={}\r\n",
        "  for i in text:\r\n",
        "    keys=dic.keys()\r\n",
        "    if i in keys:\r\n",
        "      dic[i] += 1\r\n",
        "    else:\r\n",
        "      dic[i] = 1\r\n",
        "  return dic"
      ],
      "execution_count": 193,
      "outputs": []
    },
    {
      "cell_type": "code",
      "metadata": {
        "id": "3rwU5Qg5eD7V"
      },
      "source": [
        "# Write a Python program to change the first letter of strings in a list to Upper case and remaining to lower case. \r\n",
        "def capital_str(text):\r\n",
        "  result=[]\r\n",
        "  for j in text:\r\n",
        "     term=j[0].upper()+j[1:].lower()\r\n",
        "     result.append(term)\r\n",
        "  return result "
      ],
      "execution_count": 194,
      "outputs": []
    },
    {
      "cell_type": "code",
      "metadata": {
        "id": "vOigpaJFhYjG"
      },
      "source": [
        "#Given a number n,write a function to generate a random binary string of length n.\r\n",
        "import random \r\n",
        "def rand_key(p): \r\n",
        "    key1 = \"\" \r\n",
        "    for i in range(p): \r\n",
        "      temp = str(random.randint(0, 1)) \r\n",
        "      key1 += temp \r\n",
        "          \r\n",
        "    return(key1)"
      ],
      "execution_count": 195,
      "outputs": []
    },
    {
      "cell_type": "code",
      "metadata": {
        "colab": {
          "base_uri": "https://localhost:8080/"
        },
        "id": "Lf1PYKVbjRg5",
        "outputId": "7ade965c-c4bd-408c-a0b6-95a3c1fafea3"
      },
      "source": [
        "# write a program to print a random string with a length N\r\n",
        "import string \r\n",
        "import random \r\n",
        " \r\n",
        "N = 7  \r\n",
        "res = ''.join(random.choices(string.ascii_uppercase +\r\n",
        "                             string.digits, k = N)) \r\n",
        "\r\n",
        "print(str(res)) "
      ],
      "execution_count": 196,
      "outputs": [
        {
          "output_type": "stream",
          "text": [
            "QI9CUJK\n"
          ],
          "name": "stdout"
        }
      ]
    },
    {
      "cell_type": "code",
      "metadata": {
        "id": "62iZDygHj7OG"
      },
      "source": [
        "#  write a Python program to convert the given list to string.\r\n",
        "def listToString(s):  \r\n",
        "    str1 = \" \" \r\n",
        "    return (str1.join(s))"
      ],
      "execution_count": 197,
      "outputs": []
    },
    {
      "cell_type": "code",
      "metadata": {
        "colab": {
          "base_uri": "https://localhost:8080/"
        },
        "id": "gStVQW9HweeQ",
        "outputId": "74f4808c-740b-46d9-e250-8fe551f927de"
      },
      "source": [
        "# write a python function which uses generator to sum all the numbers in a range\r\n",
        "min_value = 10\r\n",
        "max_value = 10000\r\n",
        "sum_all = sum(i * i for i in range(min_value, max_value))\r\n",
        "print(f\"{sum_all}\")"
      ],
      "execution_count": 198,
      "outputs": [
        {
          "output_type": "stream",
          "text": [
            "333283334715\n"
          ],
          "name": "stdout"
        }
      ]
    },
    {
      "cell_type": "code",
      "metadata": {
        "colab": {
          "base_uri": "https://localhost:8080/"
        },
        "id": "zc-OXQw113fv",
        "outputId": "a8347e82-99f6-4f3c-e0c8-635eec9dc3de"
      },
      "source": [
        "# write a python program to convert a dictionary to list of tuples\r\n",
        "dict_new = {'1':1, '2':'karanam'}\r\n",
        "tup = dict_new.items()"
      ],
      "execution_count": 205,
      "outputs": [
        {
          "output_type": "execute_result",
          "data": {
            "text/plain": [
              "dict_items([('1', 1), ('2', 'karanam')])"
            ]
          },
          "metadata": {
            "tags": []
          },
          "execution_count": 205
        }
      ]
    },
    {
      "cell_type": "code",
      "metadata": {
        "id": "rLF6QGAk1-l9"
      },
      "source": [
        "# write a python function to add all even numbers between minimum and maximum value\r\n",
        "def add_even_num(min, max):\r\n",
        "    return sum([i for i in range(min, max) if i%2==0])"
      ],
      "execution_count": null,
      "outputs": []
    },
    {
      "cell_type": "code",
      "metadata": {
        "id": "PdEjkU1_2Nfz"
      },
      "source": [
        "# write a python function that takes two lists and combines them without any duplicates and return the list\r\n",
        "def comb_lists(L1, L2):\r\n",
        "    return L1 + [items for items in L2 if items not in L1]\r\n",
        "\r\n",
        "L1 = [\"rahul\",2,3]\r\n",
        "L2 = [2,\"Deep Mind\",3]\r\n",
        "\r\n",
        "comb_lists(L1,L2)"
      ],
      "execution_count": null,
      "outputs": []
    },
    {
      "cell_type": "code",
      "metadata": {
        "id": "TW4tG3l-2SiN"
      },
      "source": [
        "# write a python program to print system time\r\n",
        "import time\r\n",
        "print(f\"{time.time()}\")"
      ],
      "execution_count": null,
      "outputs": []
    },
    {
      "cell_type": "code",
      "metadata": {
        "id": "XqnicPvq2a1o"
      },
      "source": [
        "# write a python program to merge two sorted lists\r\n",
        "l1=[a for a in range(0,6)]\r\n",
        "l2= [1, 5, 7, 12, 13, 19, 21]\r\n",
        "\r\n",
        "l1.extend(l2)\r\n",
        "l3 = sorted(l1)\r\n",
        "print(f\"{l3}\")"
      ],
      "execution_count": null,
      "outputs": []
    },
    {
      "cell_type": "code",
      "metadata": {
        "id": "8KyaOO4b2viG"
      },
      "source": [
        "# write a python program to print all the keys in the dictionary and store it in a list\r\n",
        "sample_dict = {'Raul':12, 'FIDA':2, 'GOAL':3}\r\n",
        "key_list = list(sample_dict.keys())\r\n",
        "print(f\"{key_list}\")"
      ],
      "execution_count": null,
      "outputs": []
    },
    {
      "cell_type": "code",
      "metadata": {
        "id": "uskdVt2m287u"
      },
      "source": [
        "# Generate a list by list comprehension\r\n",
        "list = [x for x in range(10)]\r\n",
        "print(f\"List Generated by list comprehension:{list}\")"
      ],
      "execution_count": null,
      "outputs": []
    },
    {
      "cell_type": "code",
      "metadata": {
        "id": "NW0ID8533GHJ"
      },
      "source": [
        "# write a python program to iterate through a string using lambda and print the result\r\n",
        "letters = list(map(lambda x: x, 'RAHUL KARNAM'))\r\n",
        "print(letters)"
      ],
      "execution_count": null,
      "outputs": []
    },
    {
      "cell_type": "code",
      "metadata": {
        "id": "z2R8iEQY3IS1"
      },
      "source": [
        "# write a python function to generate random number between a  given range\r\n",
        "import random\r\n",
        "\r\n",
        "def get_weather_data(min, max):\r\n",
        "    return random.randrange(min, max)\r\n",
        "\r\n",
        "rand_num = get_weather_data(11, 200)\r\n",
        "print(f\"{rand_num}\")\r\n"
      ],
      "execution_count": null,
      "outputs": []
    },
    {
      "cell_type": "code",
      "metadata": {
        "id": "Px2GRErZ3NKL"
      },
      "source": [
        "# write a python function that takes a list of numbers and calculate square of each number and return it in a list\r\n",
        "def square_num(mynumbers):\r\n",
        "    return list(map(lambda num: num**2,mynumbers))\r\n",
        "square_num([1,2,3])"
      ],
      "execution_count": null,
      "outputs": []
    },
    {
      "cell_type": "code",
      "metadata": {
        "id": "g_HM3YQl3gyS"
      },
      "source": [
        "# Removal all the characters other than integers from string\r\n",
        "str1 = 'I am 25 years and 10 months old'\r\n",
        "res = \"\".join([item for item in str1 if item.isdigit()])\r\n",
        "print(res)"
      ],
      "execution_count": null,
      "outputs": []
    },
    {
      "cell_type": "code",
      "metadata": {
        "id": "2Xyy2qZg3kno"
      },
      "source": [
        "# Subtract a week from a given date\r\n",
        "from datetime import datetime, timedelta\r\n",
        "given_date = datetime(2020, 2, 25)\r\n",
        "days_to_subtract = 7\r\n",
        "res_date = given_date - timedelta(days=days_to_subtract)\r\n",
        "print(res_date)"
      ],
      "execution_count": null,
      "outputs": []
    },
    {
      "cell_type": "code",
      "metadata": {
        "id": "0_eytvUz3oCC"
      },
      "source": [
        "# Return the largest item from the given list\r\n",
        "aList = [4, 6, 8, 24, 12, 2]\r\n",
        "print(max(aList))"
      ],
      "execution_count": null,
      "outputs": []
    },
    {
      "cell_type": "code",
      "metadata": {
        "id": "xPdRPVtz3yhG"
      },
      "source": [
        "# write a program to calculate exponents of an input\r\n",
        "input = 9\r\n",
        "exponent = 2\r\n",
        "final = pow(input, exponent)\r\n",
        "print(f'Exponent Value is:{final}')"
      ],
      "execution_count": null,
      "outputs": []
    },
    {
      "cell_type": "code",
      "metadata": {
        "id": "POMcmD9537jl"
      },
      "source": [
        "# Write a python function to raise error when an input is not a string type\r\n",
        "def check_string(new_str):\r\n",
        "    return isinstance(new_str,str)"
      ],
      "execution_count": null,
      "outputs": []
    },
    {
      "cell_type": "code",
      "metadata": {
        "id": "Slcymbut4Q6E"
      },
      "source": [
        "# Write a python function to convert hours to either minutes\r\n",
        "\r\n",
        "def convert_to_minutes(num_hours):\r\n",
        "    '''(int) -> int\r\n",
        "    Return the number of minutes there are in\r\n",
        "    num_hours hours.\r\n",
        "    '''\r\n",
        "    minutes = num_hours * 60\r\n",
        "    return minutes"
      ],
      "execution_count": null,
      "outputs": []
    },
    {
      "cell_type": "code",
      "metadata": {
        "id": "2016Ub7Y4Zqo"
      },
      "source": [
        "# write a program to find the most frequent word in a string\r\n",
        "sent = \" Duplex is a wonderful innovation and google is doing much work on it as it is main component\"\r\n",
        "\r\n",
        "print(f'Most freq: {max(sent.split(),key=sent.split().count)}')"
      ],
      "execution_count": null,
      "outputs": []
    },
    {
      "cell_type": "code",
      "metadata": {
        "id": "haTKjg3X3qMG"
      },
      "source": [
        "# Returns the number of times the specified element appears in the list\r\n",
        "vowels = ['a', 'e', 'i', 'o', 'i', 'u']\r\n",
        "count = vowels.count('i')\r\n",
        "print('The count of i is:', count)"
      ],
      "execution_count": null,
      "outputs": []
    },
    {
      "cell_type": "code",
      "metadata": {
        "id": "u2e2AONE46Jv"
      },
      "source": [
        "# Write a program to delete a 3rd character from a given string \r\n",
        "\r\n",
        "String='welcome'\r\n",
        "\r\n",
        "new_str = \"\" \r\n",
        "  \r\n",
        "for i in range(len(String)): \r\n",
        "    if i != 2: \r\n",
        "        new_str = new_str + String[i] \r\n",
        "\r\n",
        "print(new_str)"
      ],
      "execution_count": null,
      "outputs": []
    },
    {
      "cell_type": "code",
      "metadata": {
        "id": "wUTbmCYn49LF"
      },
      "source": [
        "# Write a program to convert kilometers per hour to mile per hour\r\n",
        "\r\n",
        "kmh = 16\r\n",
        "mph =  0.6214 * kmh\r\n",
        "print(\"Speed:\", kmh, \"KM/H = \", mph, \"MPH\")"
      ],
      "execution_count": null,
      "outputs": []
    },
    {
      "cell_type": "code",
      "metadata": {
        "id": "p7Y6B2wB5AbD"
      },
      "source": [
        "## 3. Write a program to reverse dictionary key order\r\n",
        "\r\n",
        "sample_dict = {1:'Hi',2:'Hello',3:'Hey'}\r\n",
        "\r\n",
        "print(\"The original dictionary : \" + str(sample_dict)) \r\n",
        "\r\n",
        "res = dict(reversed(list(sample_dict.items()))) \r\n",
        "\r\n",
        "print(\"The reversed order dictionary : \" + str(res))\r\n"
      ],
      "execution_count": null,
      "outputs": []
    },
    {
      "cell_type": "code",
      "metadata": {
        "id": "ROtMc1U25M4H"
      },
      "source": [
        "# Remove special symbols/Punctuation from a given string\r\n",
        "import string\r\n",
        "\r\n",
        "str1 = \"/*Jon is @developer & musician\"\r\n",
        "new_str = str1.translate(str.maketrans('', '', string.punctuation))\r\n",
        "print(\"New string is \", new_str)\r\n",
        "\r\n",
        "# Removal all the characters other than integers from string\r\n",
        "str1 = 'I am 25 years and 10 months old'\r\n",
        "res = \"\".join([item for item in str1 if item.isdigit()])\r\n",
        "print(res)"
      ],
      "execution_count": null,
      "outputs": []
    },
    {
      "cell_type": "code",
      "metadata": {
        "id": "vzwVIU6D5P-r"
      },
      "source": [
        "#  Fibonacci series up to 100\r\n",
        "n = 100\r\n",
        "result = []\r\n",
        "a, b = 0 , 1\r\n",
        "while b < n:\r\n",
        "  result. append( b)\r\n",
        "  a, b = b, a + b\r\n",
        "final = result\r\n",
        "print(f\"Fibonacci series up to 100:{final}\")"
      ],
      "execution_count": null,
      "outputs": []
    },
    {
      "cell_type": "code",
      "metadata": {
        "id": "ecXzMu5G5WQF"
      },
      "source": [
        "# write a python function to print last five chacters from a given input string\r\n",
        "\r\n",
        "def print_last_five_chrs_string(s):\r\n",
        "    print(s[-5:])\r\n",
        "\r\n",
        "print_last_five_chrs_string('Washington Tuske')"
      ],
      "execution_count": null,
      "outputs": []
    },
    {
      "cell_type": "code",
      "metadata": {
        "id": "xTNa584l5Z-i"
      },
      "source": [
        "# write a function to take a list of numbers and multiply each element with a random choice between 0 and 1 and return the updated list\r\n",
        "\r\n",
        "def rand_mul_list(l):\r\n",
        "    import random\r\n",
        "    for i in range(len(l)):\r\n",
        "        l[i] = l[i] * random.choice([0,1])\r\n",
        "    return l\r\n",
        "\r\n",
        "rand_mul_list([1,2,3,4,5,6,7])"
      ],
      "execution_count": null,
      "outputs": []
    },
    {
      "cell_type": "code",
      "metadata": {
        "id": "QNAEtgue5gd8"
      },
      "source": [
        "# write a python funciton to check if the all the characters in a string are alpha numeric except spaces\r\n",
        "\r\n",
        "def check_string_alphanum(t):\r\n",
        "    t = str(t)\r\n",
        "    t = t.replace(' ', '')\r\n",
        "    return t.isalnum()\r\n",
        "\r\n",
        "check_string_alphanum(\"My home is far away from hone\")"
      ],
      "execution_count": null,
      "outputs": []
    },
    {
      "cell_type": "code",
      "metadata": {
        "id": "eoJV4HGU5lop"
      },
      "source": [
        "# wirte python program to print if memory location of two objects with same integer values are same\r\n",
        "\r\n",
        "a = 10\r\n",
        "b = 10\r\n",
        "\r\n",
        "print(id(a) == id(109))\r\n",
        "a = 1000\r\n",
        "b = 1000\r\n",
        "\r\n",
        "print(id(a) == id(109))"
      ],
      "execution_count": null,
      "outputs": []
    },
    {
      "cell_type": "code",
      "metadata": {
        "id": "AX7mU9V15vrJ"
      },
      "source": [
        "# write a python function to get unique elements of a list\r\n",
        "\r\n",
        "def unique_element_of_list(l):\r\n",
        "    return list(set(l))"
      ],
      "execution_count": null,
      "outputs": []
    },
    {
      "cell_type": "code",
      "metadata": {
        "id": "v54ttPqr52zK"
      },
      "source": [
        "# Generate a random n-dimensional array of float numbers\r\n",
        "import numpy\r\n",
        "random_float_array = numpy.random.rand(2, 2)\r\n",
        "print(\"2 X 2 random float array in [0.0, 1.0] \\n\", random_float_array,\"\\n\")"
      ],
      "execution_count": null,
      "outputs": []
    },
    {
      "cell_type": "code",
      "metadata": {
        "id": "jjVkAsBc552F"
      },
      "source": [
        "# write a python function to print if all of the elements in a tuple are true\r\n",
        "\r\n",
        "def all_of_tuple(t):\r\n",
        "    if all(t):\r\n",
        "        print(True)\r\n",
        "    else:\r\n",
        "        print(False)\r\n",
        "        \r\n",
        "all_of_tuple((0, 4, False))"
      ],
      "execution_count": null,
      "outputs": []
    },
    {
      "cell_type": "code",
      "metadata": {
        "id": "CXfu_iL35-6s"
      },
      "source": [
        "# Find the middle element of a random number list\r\n",
        "my_list = [4,3,2,9,10,44,1]\r\n",
        "print(\"mid value is \",my_list[int(len(my_list)/2)])"
      ],
      "execution_count": null,
      "outputs": []
    },
    {
      "cell_type": "code",
      "metadata": {
        "id": "18sZN8TG6EEV"
      },
      "source": [
        "# write a python program to apply lambda function to a list to multiply each element by 2\r\n",
        "\r\n",
        "l = [1, 2, 3, 4, 7, 'hey']\r\n",
        "\r\n",
        "f = lambda x: x*2\r\n",
        "l = [f(i) for i in l]\r\n",
        "l"
      ],
      "execution_count": null,
      "outputs": []
    },
    {
      "cell_type": "code",
      "metadata": {
        "id": "hyYUL_Og6TGa"
      },
      "source": [
        "# write a program to convert key-values list to flat dictionary \r\n",
        "\r\n",
        "from itertools import product \r\n",
        "test_dict = {'month' : [1, 2, 3], \r\n",
        "             'name' : ['Jan', 'Feb', 'March']} \r\n",
        "  \r\n",
        "print(\"The original dictionary is : \" + str(test_dict)) \r\n",
        "  \r\n",
        "res = dict(zip(test_dict['month'], test_dict['name'])) \r\n",
        "print(\"Flattened dictionary : \" + str(res)) "
      ],
      "execution_count": null,
      "outputs": []
    },
    {
      "cell_type": "code",
      "metadata": {
        "id": "SDre-prQ6Xvz"
      },
      "source": [
        "# write a program to print negative Numbers in given range \r\n",
        "start, end = -4, 19\r\n",
        "for num in range(start, end + 1): \r\n",
        "    if num < 0: \r\n",
        "        print(num, end = \" \") "
      ],
      "execution_count": null,
      "outputs": []
    },
    {
      "cell_type": "code",
      "metadata": {
        "id": "d8WkqXI_6eNu"
      },
      "source": [
        "# Define a class named Rectangle which can be constructed by a length and width. The Rectangle class has a method which can compute the area.\r\n",
        "class Rectangle(object):\r\n",
        "    def __init__(self, l, w):\r\n",
        "        self.length = l\r\n",
        "        self.width  = w\r\n",
        "    def area(self):\r\n",
        "        return self.length*self.width\r\n",
        "aRectangle = Rectangle(2,10)\r\n",
        "print aRectangle.area()"
      ],
      "execution_count": null,
      "outputs": []
    },
    {
      "cell_type": "code",
      "metadata": {
        "id": "4wFYwlOo6eRH"
      },
      "source": [
        "# write a program which accepts a string from console and print the characters that have even indexes.\r\n",
        "s=raw_input()\r\n",
        "s = s[::2]\r\n",
        "print s"
      ],
      "execution_count": null,
      "outputs": []
    },
    {
      "cell_type": "code",
      "metadata": {
        "id": "WOFCQbnf6eUr"
      },
      "source": [
        "# Define a function which can generate and print a list where the values are square of numbers between 1 and 20 (both included).\r\n",
        "def printList():\r\n",
        "\tli=list()\r\n",
        "\tfor i in range(1,21):\r\n",
        "\t\tli.append(i**2)\r\n",
        "\tprint li"
      ],
      "execution_count": null,
      "outputs": []
    },
    {
      "cell_type": "code",
      "metadata": {
        "id": "nnfYwSoS63ce"
      },
      "source": [
        "# Write a program that accepts sequence of lines as input and prints the lines after making all characters in the sentence capitalized.\r\n",
        "lines = []\r\n",
        "while True:\r\n",
        "    s = raw_input()\r\n",
        "    if s:\r\n",
        "        lines.append(s.upper())\r\n",
        "    else:\r\n",
        "        break;\r\n",
        "for sentence in lines:\r\n",
        "    print sentence"
      ],
      "execution_count": null,
      "outputs": []
    },
    {
      "cell_type": "code",
      "metadata": {
        "id": "cNzBohqm6-pW"
      },
      "source": [
        "# Write a program that accepts a sequence of whitespace separated words as input and prints the words after removing all duplicate words and sorting them alphanumerically.\r\n",
        "s = raw_input()\r\n",
        "words = [word for word in s.split(\" \")]\r\n",
        "print \" \".join(sorted(list(set(words))))"
      ],
      "execution_count": null,
      "outputs": []
    },
    {
      "cell_type": "code",
      "metadata": {
        "id": "g0bWbL-o7H6P"
      },
      "source": [
        "# write a python function to find the factorial of the user provided number and print the result\r\n",
        "def findfactorial(num):\r\n",
        "    factorial = 1\r\n",
        "    if num < 0:\r\n",
        "        print(\"Sorry, factorial does not exist for negative numbers\")\r\n",
        "    elif num == 0:\r\n",
        "        print(\"The factorial of 0 is 1\")\r\n",
        "    else:\r\n",
        "        for i in range(1,num+1):\r\n",
        "            factorial = factorial*i\r\n",
        "        print(\"The factorial of\",num,\"is\",factorial)"
      ],
      "execution_count": null,
      "outputs": []
    },
    {
      "cell_type": "code",
      "metadata": {
        "id": "3FHrI6ZI7Nb0"
      },
      "source": [
        "# Function which removes the characters at odd index in a given string\r\n",
        "def RemoveOdd(str1):\r\n",
        "  res = ''\r\n",
        "  for i in range(len(str1)):\r\n",
        "    if i%2 == 0:\r\n",
        "      res += str1[i]\r\n",
        "  return res"
      ],
      "execution_count": null,
      "outputs": []
    },
    {
      "cell_type": "code",
      "metadata": {
        "id": "90ZZXScF7RS3"
      },
      "source": [
        "# Function to swap two numbers\r\n",
        "def swapNumbers(a, b):\r\n",
        "  return b, a\r\n",
        "\r\n",
        "swapNumbers(4, 5)"
      ],
      "execution_count": null,
      "outputs": []
    },
    {
      "cell_type": "code",
      "metadata": {
        "id": "qquLN2NR7VQa"
      },
      "source": [
        "# Function to remove the nth character in a given string\r\n",
        "def RemoveNth(str1, n):\r\n",
        "  return str1[:n] + str1[n+1:]\r\n",
        "\r\n",
        "print(RemoveNth('mamamamam', 2))"
      ],
      "execution_count": null,
      "outputs": []
    },
    {
      "cell_type": "code",
      "metadata": {
        "id": "wVfHz1DV6eY2"
      },
      "source": [
        "# write a python program to print the least frequent character in a string\r\n",
        "test_str = \"this is test string\"\r\n",
        "all_freq = {}\r\n",
        "for i in test_str:\r\n",
        "    if i in all_freq:\r\n",
        "        all_freq[i] += 1\r\n",
        "    else:\r\n",
        "        all_freq[i] = 1\r\n",
        "res = min(all_freq, key = all_freq.get)\r\n",
        "print(res)"
      ],
      "execution_count": null,
      "outputs": []
    },
    {
      "cell_type": "code",
      "metadata": {
        "id": "4ioke0JM7rsj"
      },
      "source": [
        "# write a python program to check if a number is positive, negative or 0\r\n",
        "num = float(input(\"Enter a number: \"))\r\n",
        "if num > 0:\r\n",
        "   print(\"Positive number\")\r\n",
        "elif num == 0:\r\n",
        "   print(\"Zero\")\r\n",
        "else:\r\n",
        "   print(\"Negative number\")"
      ],
      "execution_count": null,
      "outputs": []
    },
    {
      "cell_type": "code",
      "metadata": {
        "id": "WWZFG7jp7wSM"
      },
      "source": [
        "# Write a Python program to create the multiplication table (from 1 to 10) of a number.\r\n",
        "n = int(input(\"Input a number: \"))\r\n",
        "for i in range(1,11):\r\n",
        "print(n,'x',i,'=',n*i)"
      ],
      "execution_count": null,
      "outputs": []
    },
    {
      "cell_type": "code",
      "metadata": {
        "id": "lYbaLms370E3"
      },
      "source": [
        "# Write a python program for selection sort\r\n",
        "for i in range(len(A)):\r\n",
        "min_idx = i\r\n",
        "for j in range(i+1, len(A)):\r\n",
        "if A[min_idx] > A[j]:\r\n",
        "min_idx = j\r\n",
        "\r\n",
        "A[i], A[min_idx] = A[min_idx], A[i]"
      ],
      "execution_count": null,
      "outputs": []
    },
    {
      "cell_type": "code",
      "metadata": {
        "id": "XnMCtw1q735t"
      },
      "source": [
        "# write a python program to remove words less than a specified length from a sentence\r\n",
        "sentence = 'this is my sentence and i will write it my way'\r\n",
        "minlength = 3\r\n",
        "result = [word for word in sentence.split(' ') if len(word) >= minlength]"
      ],
      "execution_count": null,
      "outputs": []
    },
    {
      "cell_type": "code",
      "metadata": {
        "id": "hyJvQGCu7krf"
      },
      "source": [
        "# write a python function shifts and scales all numbers in the given list by the given mean and standard deviation\r\n",
        "def shift_and_scale(list_of_nums, mean, std):\r\n",
        "    return [ (x-mean) / std for x in list_of_nums ]"
      ],
      "execution_count": null,
      "outputs": []
    },
    {
      "cell_type": "code",
      "metadata": {
        "id": "jE-9XEA76iNL"
      },
      "source": [
        "# write a python function shifts and scales all numbers in the given list by the given mean and standard deviation\r\n",
        "def shift_and_scale(list_of_nums, mean, std):\r\n",
        "    return [ (x-mean) / std for x in list_of_nums ]"
      ],
      "execution_count": null,
      "outputs": []
    },
    {
      "cell_type": "code",
      "metadata": {
        "id": "uD94MgJI8x60"
      },
      "source": [
        "# write a python function to return all the binary strings with n bits\r\n",
        "def bit_strings(n):\r\n",
        "    if n == 0:\r\n",
        "        return []\r\n",
        "    if n == 1:\r\n",
        "        return [\"O\", \"1\"]\r\n",
        "    return [digit + bitstring for digit in bit_strings(1) for bitstring in bit_strings(n - 1)]"
      ],
      "execution_count": null,
      "outputs": []
    },
    {
      "cell_type": "code",
      "metadata": {
        "id": "dvVcpH3R83Wq"
      },
      "source": [
        "# write a program that given a 2d list A, prints only the second row\r\n",
        "A = [[1,2,3],[4,5,6]]\r\n",
        "print(\"The second column in the 2 list is \",A[0])\r\n"
      ],
      "execution_count": null,
      "outputs": []
    },
    {
      "cell_type": "code",
      "metadata": {
        "id": "y-Q9mmkE86P7"
      },
      "source": [
        "# write a program that searches a pattern A in a string S using regex.               \r\n",
        "import re\r\n",
        "def match_string(S, A):\r\n",
        "    regex = re.compile(A)\r\n",
        "    return regex.match(S)"
      ],
      "execution_count": null,
      "outputs": []
    },
    {
      "cell_type": "code",
      "metadata": {
        "id": "is3Fpz5b8890"
      },
      "source": [
        " # write a python function that given two dictionaries A and B, appends them and returns a new dictionary.\r\n",
        "from copy import deepcopy\r\n",
        "def append_return_new(A, B):\r\n",
        "    C = deepcopy(A)\r\n",
        "    C.update(B)\r\n",
        "    return C"
      ],
      "execution_count": null,
      "outputs": []
    },
    {
      "cell_type": "code",
      "metadata": {
        "id": "_gWbpKne9D0O"
      },
      "source": [
        "# write a python function that draws a rectangle\r\n",
        "def draw_rectangle():\r\n",
        "    print('*'*15)\r\n",
        "    print('*',' '*11,'*')\r\n",
        "    print('*',' '*11,'*')\r\n",
        "    print('*'*15)"
      ],
      "execution_count": null,
      "outputs": []
    },
    {
      "cell_type": "code",
      "metadata": {
        "id": "jEBKAc6w9IbB"
      },
      "source": [
        "# Given a list A of n -1 integers, these integers are in the range of 1 to n and one of the integers is missing in the list. Write a python function algorithm to return the missing integer. Assume there are no duplicates in the list.\r\n",
        "def find_missing_number(A):\r\n",
        "    n = len(A)\r\n",
        "    for i in range(1,n+1):\r\n",
        "        found = 0\r\n",
        "        for j in range(0,n):\r\n",
        "            if i == A[j]:\r\n",
        "                found = 1\r\n",
        "        if found == 0:\r\n",
        "            return i     "
      ],
      "execution_count": null,
      "outputs": []
    },
    {
      "cell_type": "code",
      "metadata": {
        "id": "GBDY1tOU_nNn"
      },
      "source": [
        "# write a python function to return count of number of vowels in a sentence\r\n",
        "def count_vowels(sentence):\r\n",
        "   count = 0\r\n",
        "   for letter in sentence:\r\n",
        "      if letter in \"aeiouAEIOU\":\r\n",
        "         count += 1\r\n",
        "   return count"
      ],
      "execution_count": null,
      "outputs": []
    },
    {
      "cell_type": "code",
      "metadata": {
        "id": "204LcKzI_qpR"
      },
      "source": [
        "# write a python function that returns the weighted average of numbers\r\n",
        "def get_weighted_average(numbers, weightage):\r\n",
        "   return sum(x * y for x, y in zip(numbers, weightage)) / sum(weightage)"
      ],
      "execution_count": null,
      "outputs": []
    },
    {
      "cell_type": "code",
      "metadata": {
        "id": "JOvtYqH-_sqZ"
      },
      "source": [
        "# write a python program to print the difference in days between two dates\r\n",
        "from datetime import date\r\n",
        "date1 = date(2020, 10, 25)\r\n",
        "date2 = date(2020, 12, 25)\r\n",
        "print(f'Difference between dates: {(date2 - date1).days}')"
      ],
      "execution_count": null,
      "outputs": []
    },
    {
      "cell_type": "code",
      "metadata": {
        "id": "JlYyIEPf_vGK"
      },
      "source": [
        "# write a python function that inverts the key and values in a dict and returns it\r\n",
        "def invert_dict(dictionary):\r\n",
        "   inverted_dict = {value: key for key, value in dictionary.items()}\r\n",
        "   return inverted_dict"
      ],
      "execution_count": null,
      "outputs": []
    },
    {
      "cell_type": "code",
      "metadata": {
        "id": "L8KE2fZ49LsU"
      },
      "source": [
        "# write a program to input a list and rotate items in a list left.\r\n",
        "L = eval(input('Enter a list: '))\r\n",
        "save = L[0]\r\n",
        "for i in range(len(L)-1):\r\n",
        "    L[i] = L[i+1]\r\n",
        "L[-1] = save\r\n",
        "print(L) "
      ],
      "execution_count": null,
      "outputs": []
    },
    {
      "cell_type": "code",
      "metadata": {
        "id": "jIeFdEUp_zsw"
      },
      "source": [
        "# write a python program that converts a octal number to octal and prints it\r\n",
        "octal_num = '17'\r\n",
        "decimal_num = int(octal_num, 8)\r\n",
        "print(decimal_num)"
      ],
      "execution_count": null,
      "outputs": []
    },
    {
      "cell_type": "code",
      "metadata": {
        "id": "XKvgSWhv_1o3"
      },
      "source": [
        "# write a python program that converts a binary number to decimal and prints it\r\n",
        "binary_num = '1010101'\r\n",
        "decimal_num = int(binary_num, 2)\r\n",
        "print(decimal_num)"
      ],
      "execution_count": null,
      "outputs": []
    },
    {
      "cell_type": "code",
      "metadata": {
        "id": "Smwe0EsG_31z"
      },
      "source": [
        "# write a program that multiplies corresponding elements in two lists and prints a new list\r\n",
        "list1 = [1, 2, 3, 4, 5]\r\n",
        "list2 = [5, 4, 3, 2, 1]\r\n",
        "prod_list = [a*b for (a,b) in zip(list1, list2)]\r\n",
        "print(prod_list)"
      ],
      "execution_count": null,
      "outputs": []
    },
    {
      "cell_type": "code",
      "metadata": {
        "id": "6JT8MCa4_6IF"
      },
      "source": [
        "# write a program that subtracts corresponding elements in two lists and prints a new list\r\n",
        "list1 = [1, 2, 3, 4, 5]\r\n",
        "list2 = [5, 4, 3, 2, 1]\r\n",
        "diff_list = [a-b for (a,b) in zip(list1, list2)]\r\n",
        "print(diff_list)"
      ],
      "execution_count": null,
      "outputs": []
    },
    {
      "cell_type": "code",
      "metadata": {
        "id": "DtDXa6cQ_8P_"
      },
      "source": [
        " write a python program that multiplies a tuple n times and print the result\r\n",
        "my_tuple = (1, 2, 3)\r\n",
        "n = 3\r\n",
        "print(my_tuple * 3)"
      ],
      "execution_count": null,
      "outputs": []
    },
    {
      "cell_type": "code",
      "metadata": {
        "id": "KHnMH5H9_-2J"
      },
      "source": [
        "# write a python function to return the number of lines in a file\r\n",
        "def count_lines(filename):\r\n",
        "   with open(filename, 'r') as f:\r\n",
        "      contents = f.read().split('\\n')\r\n",
        "      return len(contents)"
      ],
      "execution_count": null,
      "outputs": []
    },
    {
      "cell_type": "code",
      "metadata": {
        "id": "37Zvz7XDAA8_"
      },
      "source": [
        "# write a python function to remove all punctuation from a string\r\n",
        "def remove_punctuations(sentence):\r\n",
        "   punctuations = '''!()-[]{};:'\"\\,<>./?@#$%^&*_~'''\r\n",
        "   no_punct = ''\r\n",
        "   for char in sentence:\r\n",
        "      if char not in punctuations:\r\n",
        "         no_punct = no_punct + char\r\n",
        "   return no_punct"
      ],
      "execution_count": null,
      "outputs": []
    },
    {
      "cell_type": "code",
      "metadata": {
        "id": "2kLsoORYADgK"
      },
      "source": [
        " write a program to print 5 even random numbers between 10 and 100\r\n",
        "import random\r\n",
        "print(random.sample([i for i in range(10, 100) if i%2 == 0], 5))"
      ],
      "execution_count": null,
      "outputs": []
    },
    {
      "cell_type": "code",
      "metadata": {
        "id": "LBjw7z_fAFh1"
      },
      "source": [
        "# write a python program to shuffle the items in a list and print it\r\n",
        "from random import shuffle\r\n",
        "mylist = [1, 2, 3, 4, 5]\r\n",
        "shuffle(mylist)\r\n",
        "print(mylist)"
      ],
      "execution_count": null,
      "outputs": []
    },
    {
      "cell_type": "code",
      "metadata": {
        "id": "0Pcp14vRAJh8"
      },
      "source": [
        "# write a python function to return words in a sentence in sorted order\r\n",
        "def get_sorted_words(sentence):\r\n",
        "   words = [word for word in sentence.split()]\r\n",
        "   words.sort()\r\n",
        "   return words\r\n"
      ],
      "execution_count": null,
      "outputs": []
    },
    {
      "cell_type": "code",
      "metadata": {
        "id": "ZNZD0vVbAMMi"
      },
      "source": [
        "# write a program to create a string variable and print the amount of memory it consumes\r\n",
        "import sys\r\n",
        "string_var = 'string variable'\r\n",
        "print(sys.getsizeof(string_var))"
      ],
      "execution_count": null,
      "outputs": []
    },
    {
      "cell_type": "code",
      "metadata": {
        "id": "9FOPKoeZAb_M"
      },
      "source": [
        "# write a python program to print the least frequent character in a string\r\n",
        "test_str = \"this is test string\"\r\n",
        "all_freq = {}\r\n",
        "for i in test_str:\r\n",
        "    if i in all_freq:\r\n",
        "        all_freq[i] += 1\r\n",
        "    else:\r\n",
        "        all_freq[i] = 1\r\n",
        "res = min(all_freq, key = all_freq.get)\r\n",
        "print(res)"
      ],
      "execution_count": null,
      "outputs": []
    },
    {
      "cell_type": "code",
      "metadata": {
        "id": "oROlBN4IAfTu"
      },
      "source": [
        "# Write a Python program to convert Year/Month/Day to Day of Year.\r\n",
        "import datetime\r\n",
        "today = datetime.datetime.now()\r\n",
        "day_of_year = (today - datetime.datetime(today.year, 1, 1)).days + 1\r\n",
        "print(day_of_year)"
      ],
      "execution_count": null,
      "outputs": []
    },
    {
      "cell_type": "code",
      "metadata": {
        "id": "zlK-R7lnAie6"
      },
      "source": [
        "# write python code to print temperature in celsius to fahrenheit\r\n",
        "celsius = 37.5\r\n",
        "fahrenheit = (celsius * 1.8) + 32\r\n",
        "print('%0.1f degree Celsius is equal to %0.1f degree Fahrenheit' %(celsius,fahrenheit))\r\n"
      ],
      "execution_count": null,
      "outputs": []
    },
    {
      "cell_type": "code",
      "metadata": {
        "id": "AIjSUVl5AliD"
      },
      "source": [
        "# write a python program to substract two numbers and print it\r\n",
        "num1 = 1.5\r\n",
        "num2 = 6.3\r\n",
        "difference = num1 - num2\r\n",
        "print(f'Difference: {difference}')"
      ],
      "execution_count": null,
      "outputs": []
    },
    {
      "cell_type": "code",
      "metadata": {
        "id": "5l5Mtnm-An9g"
      },
      "source": [
        "# write a python program to print binary right shift on a variable\r\n",
        "a = 60\r\n",
        "binary_right_shift = a>>2\r\n",
        "print(binary_right_shift)"
      ],
      "execution_count": null,
      "outputs": []
    },
    {
      "cell_type": "code",
      "metadata": {
        "id": "6E-2Km_TAqNE"
      },
      "source": [
        "# write a python program to print the ascii value of a character\r\n",
        "str1 = 'a'\r\n",
        "print(ord(str1))"
      ],
      "execution_count": null,
      "outputs": []
    },
    {
      "cell_type": "code",
      "metadata": {
        "id": "fNrrw8Ml9QJn"
      },
      "source": [
        "# write a recursive python function that would return the sum of first n natural numbers, where n is the input\r\n",
        "def sum_first_n_recursive(n):\r\n",
        "    if n == 0:\r\n",
        "        return 0\r\n",
        "    return sum_first_n_recursive(n-1) + n"
      ],
      "execution_count": null,
      "outputs": []
    },
    {
      "cell_type": "code",
      "metadata": {
        "id": "ZSGzrJ-uA42n"
      },
      "source": [
        "# write a python program to print the minimum integer in a list of integers\r\n",
        "lst = [10, 20, 30, 40]\r\n",
        "print(min(lst))"
      ],
      "execution_count": null,
      "outputs": []
    },
    {
      "cell_type": "code",
      "metadata": {
        "id": "a334Cjlb9S4R"
      },
      "source": [
        "# write a python function that would read the given input file path and print its contents\r\n",
        "def read_and_print_file(filepath):\r\n",
        "    with open(filepath, \"r\") as infile:\r\n",
        "        print( infile.read() )"
      ],
      "execution_count": null,
      "outputs": []
    },
    {
      "cell_type": "code",
      "metadata": {
        "id": "TY_Sffvr9Xtr"
      },
      "source": [
        "# write a python function that returns the square of a given input number\r\n",
        "def square(x):\r\n",
        "    return x**2"
      ],
      "execution_count": null,
      "outputs": []
    },
    {
      "cell_type": "code",
      "metadata": {
        "id": "VkuPK5E69aZ9"
      },
      "source": [
        "# write a python function to return the largest and smallest numbers in the given list and return None if the list is empty\r\n",
        "def largest_and_smallest(list_of_nums):\r\n",
        "    if list_of_nums:\r\n",
        "        return max(list_of_nums), min(list_of_nums)\r\n",
        "    else:\r\n",
        "        return"
      ],
      "execution_count": null,
      "outputs": []
    },
    {
      "cell_type": "code",
      "metadata": {
        "id": "lzYj5ZfS9jPg"
      },
      "source": [
        "# Write a code to print the  memory address of a given array \r\n",
        "from array import *\r\n",
        "arr=array('i',[1,5,7,89])\r\n",
        "print('Memory address of the given array is ',arr.buffer_info())"
      ],
      "execution_count": null,
      "outputs": []
    },
    {
      "cell_type": "code",
      "metadata": {
        "id": "YUwm0MUH9ozW"
      },
      "source": [
        "# Write a program to print the positive number of all the  given number in a list \r\n",
        "lis=[1,3,-9,-81,7776,-9876]\r\n",
        "abs_list=[]\r\n",
        "print('actual list',lis)\r\n",
        "for rec in lis:\r\n",
        "  rec=abs(rec)\r\n",
        "  abs_list.append(rec)\r\n",
        "print('list with absolute values',abs_list)"
      ],
      "execution_count": null,
      "outputs": []
    },
    {
      "cell_type": "code",
      "metadata": {
        "id": "ARW2DeJP9rkU"
      },
      "source": [
        "# Write a pythin code to add three lists using lambda and map.\r\n",
        "nums1 = [1, 2, 3] \r\n",
        "nums2 = [4, 5, 6] \r\n",
        "nums3 = [7, 8, 9] \r\n",
        "print(\"Original list: \")\r\n",
        "print(nums1)  \r\n",
        "print(nums2)  \r\n",
        "print(nums3)  \r\n",
        "result = map(lambda x, y, z: x + y + z, nums1, nums2, nums3) \r\n",
        "print(\"\\nNew list after adding above three lists:\")\r\n",
        "print(list(result))"
      ],
      "execution_count": null,
      "outputs": []
    },
    {
      "cell_type": "code",
      "metadata": {
        "id": "pFmRiLpE9uJC"
      },
      "source": [
        "# Write a code to merge two dictionaries \r\n",
        "import collections as ct\r\n",
        "def merge_dictionaries(color1,color2):\r\n",
        "    merged_dict = dict(ct.ChainMap({}, color1, color2))\r\n",
        "    return merged_dict\r\n",
        "color1 = { \"R\": \"Red\", \"B\": \"Black\", \"P\": \"Pink\" }\r\n",
        "color2 = { \"G\": \"Green\", \"W\": \"White\" }\r\n",
        "print(\"Original dictionaries:\")\r\n",
        "print(color1,' ',color2)\r\n",
        "print(\"\\nMerged dictionary:\")\r\n",
        "print(merge_dictionaries(color1, color2))"
      ],
      "execution_count": null,
      "outputs": []
    },
    {
      "cell_type": "code",
      "metadata": {
        "id": "wZEsD6q894pL"
      },
      "source": [
        "# Write a code to find out number of CPU using.\r\n",
        "import multiprocessing\r\n",
        "print(multiprocessing.cpu_count())"
      ],
      "execution_count": null,
      "outputs": []
    },
    {
      "cell_type": "code",
      "metadata": {
        "id": "8SoQsDDo98V4"
      },
      "source": [
        "# Write a code to see if any file exists in the location.\r\n",
        "import os.path\r\n",
        "open('abc.txt', 'w')\r\n",
        "print(os.path.isfile('abc.txt'))"
      ],
      "execution_count": null,
      "outputs": []
    },
    {
      "cell_type": "code",
      "metadata": {
        "id": "WFkYjVNv9_Cg"
      },
      "source": [
        "# Write a code to calculate the euclidiean distance between two cordinates, express the cordinates  as list members.\r\n",
        "import math\r\n",
        "p1 = [4, 0]\r\n",
        "p2 = [6, 6]\r\n",
        "distance = math.sqrt( ((p1[0]-p2[0])**2)+((p1[1]-p2[1])**2) )\r\n",
        "\r\n",
        "print(distance)"
      ],
      "execution_count": null,
      "outputs": []
    },
    {
      "cell_type": "code",
      "metadata": {
        "id": "I5bCEBGl-Cdt"
      },
      "source": [
        "# write a code to define dictionary and loop over it.\r\n",
        "d = {'x': 10, 'y': 20, 'z': 30} \r\n",
        "for dict_key, dict_value in d.items():\r\n",
        "    print(dict_key,'->',dict_value)"
      ],
      "execution_count": null,
      "outputs": []
    },
    {
      "cell_type": "code",
      "metadata": {
        "id": "eOtzWFOe-HYs"
      },
      "source": [
        "#Write a Python program that iterate over elements repeating each as many times as its count.\r\n",
        "from collections import Counter\r\n",
        "c = Counter(p=4, q=2, r=0, s=-2)\r\n",
        "print(list(c.elements()))"
      ],
      "execution_count": null,
      "outputs": []
    }
  ]
}