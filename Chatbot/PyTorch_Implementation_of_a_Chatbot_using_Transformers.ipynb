{
  "nbformat": 4,
  "nbformat_minor": 0,
  "metadata": {
    "kernelspec": {
      "name": "python3",
      "display_name": "Python 3"
    },
    "colab": {
      "name": "PyTorch Implementation of a Chatbot using Transformers.ipynb",
      "provenance": [],
      "include_colab_link": true
    },
    "accelerator": "GPU"
  },
  "cells": [
    {
      "cell_type": "markdown",
      "metadata": {
        "id": "view-in-github",
        "colab_type": "text"
      },
      "source": [
        "<a href=\"https://colab.research.google.com/github/karanamrahul/END-Course-NLP/blob/Assignment-4/Session-13_Assignment/PyTorch_Implementation_of_a_Chatbot_using_Transformers.ipynb\" target=\"_parent\"><img src=\"https://colab.research.google.com/assets/colab-badge.svg\" alt=\"Open In Colab\"/></a>"
      ]
    },
    {
      "cell_type": "markdown",
      "metadata": {
        "id": "ovHIh_zdPm96"
      },
      "source": [
        "##  A Beginner's Guide to build Chatbot using Pytorch\n",
        "\n",
        "\n",
        "---\n",
        "\n",
        "![](https://media.giphy.com/media/22Pz0egWydqqcnvJra/giphy.gif)\n",
        "\n",
        "\n",
        "People tend to mistake that every SOTA(State of the art) model will be the perfect model for the future applications but it mainly depends upon model to model as people have different approaches to the same problem i.e conversational chatbot.\n",
        "\n",
        "Conversational bots have a tremendous demand in various sectors such as bookings,travel tickets,medical suggestions,customer service,education for kids and the list goes on and on.....\n",
        "\n",
        "In this notebook we are basically inheriting knowledge from other valuable sources and making it a beginner friendly tutorial on how to make a chatbot using Transformers, which will be implemented in Pytorch.\n",
        "\n",
        "\n",
        "## ***Resources and Sources used for creating this notebook***\n",
        "\n",
        "\n",
        "\n",
        "*   [Pytorch Chatbot Tutorial]()\n",
        "*   []()\n",
        "[*Transformer architecture*](https://arxiv.org/abs/1706.03762)\n",
        "\n",
        "\n",
        "\n"
      ]
    },
    {
      "cell_type": "markdown",
      "metadata": {
        "id": "hBAG83ITPm-L"
      },
      "source": [
        "# Imports"
      ]
    },
    {
      "cell_type": "code",
      "metadata": {
        "ExecuteTime": {
          "end_time": "2021-02-25T02:49:50.762653Z",
          "start_time": "2021-02-25T02:49:50.347536Z"
        },
        "id": "lvNpGszmPm-N"
      },
      "source": [
        "from __future__ import absolute_import\n",
        "from __future__ import division\n",
        "from __future__ import print_function\n",
        "from __future__ import unicode_literals\n",
        "\n",
        "import torch\n",
        "from torch.jit import script, trace\n",
        "import torch.nn as nn\n",
        "from torch import optim\n",
        "import torch.nn.functional as F\n",
        "import csv\n",
        "import random\n",
        "import re\n",
        "import os\n",
        "import unicodedata\n",
        "import codecs\n",
        "from io import open\n",
        "import itertools\n",
        "import math\n",
        "import numpy as np\n",
        "import spacy\n",
        "import torchtext\n",
        "from torchtext import data\n",
        "from torchtext.data import Field, BucketIterator\n",
        "from tqdm import tqdm as tqdm\n",
        "import random\n",
        "import torchtext.vocab as vocab\n",
        "import time"
      ],
      "execution_count": 1,
      "outputs": []
    },
    {
      "cell_type": "markdown",
      "metadata": {
        "id": "3ARkBCKPP36h"
      },
      "source": [
        "## Dataset\r\n",
        "\r\n",
        "We will be using Cornell Movie Scripts Corpus as a dataset throughtout this tutorial as this dataset consists of movie scripts which will make the chatbot react to different types of genres and texts.\r\n",
        "\r\n",
        "We will train a simple chatbot using movie scripts from the Cornell Movie-Dialogs Corpus.\r\n",
        "\r\n",
        "The preprocessing and formating of the dataset is being inspired from the below two resources.\r\n",
        "\r\n",
        "1.Pytorch Chatbot Tutorial : [Tutorial](https://pytorch.org/tutorials/beginner/chatbot_tutorial.html)\r\n",
        "\r\n",
        "2.FloydHub’s Cornell Movie Corpus : [preprocessing code](https://github.com/floydhub/textutil-preprocess-cornell-movie-corpus)\r\n",
        "\r\n",
        "Dataset=[Cornell Movie--Dialogs Corpus](https://www.cs.cornell.edu/~cristian/Cornell_Movie-Dialogs_Corpus.html)\r\n"
      ]
    },
    {
      "cell_type": "markdown",
      "metadata": {
        "id": "hMEtacVwP9cT"
      },
      "source": [
        "Loading Data & Preproccessing\r\n",
        "------------\r\n",
        "\r\n",
        "To start, Download the data ZIP file\r\n",
        "`here <https://www.cs.cornell.edu/~cristian/Cornell_Movie-Dialogs_Corpus.html>`__\r\n",
        "and put in a ``data/`` directory under the current directory.\r\n",
        "\r\n",
        "After that, let’s import some necessities.\r\n",
        "\r\n",
        "\r\n"
      ]
    },
    {
      "cell_type": "markdown",
      "metadata": {
        "id": "MlDV3kviPm-P"
      },
      "source": [
        "# Global Settings"
      ]
    },
    {
      "cell_type": "code",
      "metadata": {
        "ExecuteTime": {
          "end_time": "2021-02-25T02:49:50.775812Z",
          "start_time": "2021-02-25T02:49:50.763655Z"
        },
        "id": "aLGt41kNPm-Q",
        "colab": {
          "base_uri": "https://localhost:8080/"
        },
        "outputId": "7655965b-4107-4e47-d5f6-3db5afd7a36a"
      },
      "source": [
        "USE_CUDA = torch.cuda.is_available()\n",
        "device = torch.device(\"cuda\" if USE_CUDA else \"cpu\")\n",
        "\n",
        "SEED = 1234\n",
        "\n",
        "random.seed(SEED)\n",
        "np.random.seed(SEED)\n",
        "torch.manual_seed(SEED)\n",
        "torch.cuda.manual_seed(SEED)\n",
        "torch.backends.cudnn.deterministic = True\n",
        "\n",
        "# hyperparams\n",
        "BATCH_SIZE = 128\n",
        "learning_rate = 0.0005\n",
        "N_EPOCHS = 15\n",
        "CLIP = 1\n",
        "\n",
        "!wget http://www.cs.cornell.edu/~cristian/data/cornell_movie_dialogs_corpus.zip\n",
        "!unzip cornell_movie_dialogs_corpus.zip\n",
        "!ls /content/cornell\\ movie-dialogs\\ corpus\n"
      ],
      "execution_count": 2,
      "outputs": [
        {
          "output_type": "stream",
          "text": [
            "--2021-02-25 22:15:14--  http://www.cs.cornell.edu/~cristian/data/cornell_movie_dialogs_corpus.zip\n",
            "Resolving www.cs.cornell.edu (www.cs.cornell.edu)... 132.236.207.36\n",
            "Connecting to www.cs.cornell.edu (www.cs.cornell.edu)|132.236.207.36|:80... connected.\n",
            "HTTP request sent, awaiting response... 200 OK\n",
            "Length: 9916637 (9.5M) [application/zip]\n",
            "Saving to: ‘cornell_movie_dialogs_corpus.zip’\n",
            "\n",
            "cornell_movie_dialo 100%[===================>]   9.46M  58.1MB/s    in 0.2s    \n",
            "\n",
            "2021-02-25 22:15:14 (58.1 MB/s) - ‘cornell_movie_dialogs_corpus.zip’ saved [9916637/9916637]\n",
            "\n",
            "Archive:  cornell_movie_dialogs_corpus.zip\n",
            "   creating: cornell movie-dialogs corpus/\n",
            "  inflating: cornell movie-dialogs corpus/.DS_Store  \n",
            "   creating: __MACOSX/\n",
            "   creating: __MACOSX/cornell movie-dialogs corpus/\n",
            "  inflating: __MACOSX/cornell movie-dialogs corpus/._.DS_Store  \n",
            "  inflating: cornell movie-dialogs corpus/chameleons.pdf  \n",
            "  inflating: __MACOSX/cornell movie-dialogs corpus/._chameleons.pdf  \n",
            "  inflating: cornell movie-dialogs corpus/movie_characters_metadata.txt  \n",
            "  inflating: cornell movie-dialogs corpus/movie_conversations.txt  \n",
            "  inflating: cornell movie-dialogs corpus/movie_lines.txt  \n",
            "  inflating: cornell movie-dialogs corpus/movie_titles_metadata.txt  \n",
            "  inflating: cornell movie-dialogs corpus/raw_script_urls.txt  \n",
            "  inflating: cornell movie-dialogs corpus/README.txt  \n",
            "  inflating: __MACOSX/cornell movie-dialogs corpus/._README.txt  \n",
            "chameleons.pdf\t\t       movie_lines.txt\t\t  README.txt\n",
            "movie_characters_metadata.txt  movie_titles_metadata.txt\n",
            "movie_conversations.txt        raw_script_urls.txt\n"
          ],
          "name": "stdout"
        }
      ]
    },
    {
      "cell_type": "markdown",
      "metadata": {
        "id": "JlQ1aQNzPm-R"
      },
      "source": [
        "# Data Preprocessing"
      ]
    },
    {
      "cell_type": "markdown",
      "metadata": {
        "id": "pPtFay5xPm-S"
      },
      "source": [
        "Load & Preprocess Data\n",
        "The next step is to reformat our data file and load the data into structures that we can work with.\n",
        "\n",
        "The Cornell Movie-Dialogs Corpus is a rich dataset of movie character dialog:\n",
        "\n",
        "220,579 conversational exchanges between 10,292 pairs of movie characters\n",
        "9,035 characters from 617 movies\n",
        "304,713 total utterances\n",
        "This dataset is large and diverse, and there is a great variation of language formality, time periods, sentiment, etc. Our hope is that this diversity makes our model robust to many forms of inputs and queries.\n",
        "\n",
        "First, we’ll take a look at some lines of our datafile to see the original format."
      ]
    },
    {
      "cell_type": "code",
      "metadata": {
        "ExecuteTime": {
          "end_time": "2021-02-25T02:49:50.827836Z",
          "start_time": "2021-02-25T02:49:50.776714Z"
        },
        "id": "zIDKN-McPm-W",
        "colab": {
          "base_uri": "https://localhost:8080/"
        },
        "outputId": "162553a8-9575-4ae8-9289-35900d7593f6"
      },
      "source": [
        "corpus_name = \"cornell movie-dialogs corpus\"\n",
        "corpus = os.path.join(\"/content\", corpus_name)\n",
        "\n",
        "def printLines(file, n=10):\n",
        "    with open(file, 'rb') as datafile:\n",
        "        lines = datafile.readlines()\n",
        "    for line in lines[:n]:\n",
        "        print(line)\n",
        "\n",
        "printLines(os.path.join(corpus, \"movie_lines.txt\"))"
      ],
      "execution_count": 5,
      "outputs": [
        {
          "output_type": "stream",
          "text": [
            "b'L1045 +++$+++ u0 +++$+++ m0 +++$+++ BIANCA +++$+++ They do not!\\n'\n",
            "b'L1044 +++$+++ u2 +++$+++ m0 +++$+++ CAMERON +++$+++ They do to!\\n'\n",
            "b'L985 +++$+++ u0 +++$+++ m0 +++$+++ BIANCA +++$+++ I hope so.\\n'\n",
            "b'L984 +++$+++ u2 +++$+++ m0 +++$+++ CAMERON +++$+++ She okay?\\n'\n",
            "b\"L925 +++$+++ u0 +++$+++ m0 +++$+++ BIANCA +++$+++ Let's go.\\n\"\n",
            "b'L924 +++$+++ u2 +++$+++ m0 +++$+++ CAMERON +++$+++ Wow\\n'\n",
            "b\"L872 +++$+++ u0 +++$+++ m0 +++$+++ BIANCA +++$+++ Okay -- you're gonna need to learn how to lie.\\n\"\n",
            "b'L871 +++$+++ u2 +++$+++ m0 +++$+++ CAMERON +++$+++ No\\n'\n",
            "b'L870 +++$+++ u0 +++$+++ m0 +++$+++ BIANCA +++$+++ I\\'m kidding.  You know how sometimes you just become this \"persona\"?  And you don\\'t know how to quit?\\n'\n",
            "b'L869 +++$+++ u0 +++$+++ m0 +++$+++ BIANCA +++$+++ Like my fear of wearing pastels?\\n'\n"
          ],
          "name": "stdout"
        }
      ]
    },
    {
      "cell_type": "code",
      "metadata": {
        "ExecuteTime": {
          "end_time": "2021-02-25T02:49:50.835803Z",
          "start_time": "2021-02-25T02:49:50.828912Z"
        },
        "id": "pl2ahS7kPm-Z"
      },
      "source": [
        "# Splits each line of the file into a dictionary of fields\n",
        "def loadLines(fileName, fields):\n",
        "    lines = {}\n",
        "    with open(fileName, 'r', encoding='iso-8859-1') as f:\n",
        "        for line in f:\n",
        "            values = line.split(\" +++$+++ \")\n",
        "            # Extract fields\n",
        "            lineObj = {}\n",
        "            for i, field in enumerate(fields):\n",
        "                lineObj[field] = values[i]\n",
        "            lines[lineObj['lineID']] = lineObj\n",
        "    return lines\n",
        "\n",
        "\n",
        "# Groups fields of lines from `loadLines` into conversations based on *movie_conversations.txt*\n",
        "def loadConversations(fileName, lines, fields):\n",
        "    conversations = []\n",
        "    with open(fileName, 'r', encoding='iso-8859-1') as f:\n",
        "        for line in f:\n",
        "            values = line.split(\" +++$+++ \")\n",
        "            # Extract fields\n",
        "            convObj = {}\n",
        "            for i, field in enumerate(fields):\n",
        "                convObj[field] = values[i]\n",
        "            # Convert string to list (convObj[\"utteranceIDs\"] == \"['L598485', 'L598486', ...]\")\n",
        "            utterance_id_pattern = re.compile('L[0-9]+')\n",
        "            lineIds = utterance_id_pattern.findall(convObj[\"utteranceIDs\"])\n",
        "            # Reassemble lines\n",
        "            convObj[\"lines\"] = []\n",
        "            for lineId in lineIds:\n",
        "                convObj[\"lines\"].append(lines[lineId])\n",
        "            conversations.append(convObj)\n",
        "    return conversations\n",
        "\n",
        "\n",
        "# Extracts pairs of sentences from conversations\n",
        "def extractSentencePairs(conversations):\n",
        "    qa_pairs = []\n",
        "    for conversation in conversations:\n",
        "        # Iterate over all the lines of the conversation\n",
        "        for i in range(len(conversation[\"lines\"]) - 1):  # We ignore the last line (no answer for it)\n",
        "            inputLine = conversation[\"lines\"][i][\"text\"].strip()\n",
        "            targetLine = conversation[\"lines\"][i+1][\"text\"].strip()\n",
        "            # Filter wrong samples (if one of the lists is empty)\n",
        "            if inputLine and targetLine:\n",
        "                qa_pairs.append([inputLine, targetLine])\n",
        "    return qa_pairs"
      ],
      "execution_count": 6,
      "outputs": []
    },
    {
      "cell_type": "code",
      "metadata": {
        "ExecuteTime": {
          "end_time": "2021-02-25T02:49:52.297310Z",
          "start_time": "2021-02-25T02:49:50.836979Z"
        },
        "id": "jvkDK4vyPm-b",
        "colab": {
          "base_uri": "https://localhost:8080/"
        },
        "outputId": "1a2bc98b-2e37-473a-e623-cf740db9570d"
      },
      "source": [
        "# Define path to new file\n",
        "datafile = os.path.join(corpus, \"formatted_movie_lines.txt\")\n",
        "\n",
        "delimiter = '\\t'\n",
        "# Unescape the delimiter\n",
        "delimiter = str(codecs.decode(delimiter, \"unicode_escape\"))\n",
        "\n",
        "# Initialize lines dict, conversations list, and field ids\n",
        "lines = {}\n",
        "conversations = []\n",
        "MOVIE_LINES_FIELDS = [\"lineID\", \"characterID\", \"movieID\", \"character\", \"text\"]\n",
        "MOVIE_CONVERSATIONS_FIELDS = [\"character1ID\", \"character2ID\", \"movieID\", \"utteranceIDs\"]\n",
        "\n",
        "# Load lines and process conversations\n",
        "print(\"\\nProcessing corpus...\")\n",
        "lines = loadLines(os.path.join(corpus, \"movie_lines.txt\"), MOVIE_LINES_FIELDS)\n",
        "print(\"\\nLoading conversations...\")\n",
        "conversations = loadConversations(os.path.join(corpus, \"movie_conversations.txt\"),\n",
        "                                  lines, MOVIE_CONVERSATIONS_FIELDS)\n",
        "\n",
        "# Write new csv file\n",
        "print(\"\\nWriting newly formatted file...\")\n",
        "with open(datafile, 'w', encoding='utf-8') as outputfile:\n",
        "    writer = csv.writer(outputfile, delimiter=delimiter, lineterminator='\\n')\n",
        "    for pair in extractSentencePairs(conversations):\n",
        "        writer.writerow(pair)\n",
        "\n",
        "# Print a sample of lines\n",
        "print(\"\\nSample lines from file:\")\n",
        "printLines(datafile)"
      ],
      "execution_count": 7,
      "outputs": [
        {
          "output_type": "stream",
          "text": [
            "\n",
            "Processing corpus...\n",
            "\n",
            "Loading conversations...\n",
            "\n",
            "Writing newly formatted file...\n",
            "\n",
            "Sample lines from file:\n",
            "b\"Can we make this quick?  Roxanne Korrine and Andrew Barrett are having an incredibly horrendous public break- up on the quad.  Again.\\tWell, I thought we'd start with pronunciation, if that's okay with you.\\n\"\n",
            "b\"Well, I thought we'd start with pronunciation, if that's okay with you.\\tNot the hacking and gagging and spitting part.  Please.\\n\"\n",
            "b\"Not the hacking and gagging and spitting part.  Please.\\tOkay... then how 'bout we try out some French cuisine.  Saturday?  Night?\\n\"\n",
            "b\"You're asking me out.  That's so cute. What's your name again?\\tForget it.\\n\"\n",
            "b\"No, no, it's my fault -- we didn't have a proper introduction ---\\tCameron.\\n\"\n",
            "b\"Cameron.\\tThe thing is, Cameron -- I'm at the mercy of a particularly hideous breed of loser.  My sister.  I can't date until she does.\\n\"\n",
            "b\"The thing is, Cameron -- I'm at the mercy of a particularly hideous breed of loser.  My sister.  I can't date until she does.\\tSeems like she could get a date easy enough...\\n\"\n",
            "b'Why?\\tUnsolved mystery.  She used to be really popular when she started high school, then it was just like she got sick of it or something.\\n'\n",
            "b\"Unsolved mystery.  She used to be really popular when she started high school, then it was just like she got sick of it or something.\\tThat's a shame.\\n\"\n",
            "b'Gosh, if only we could find Kat a boyfriend...\\tLet me see what I can do.\\n'\n"
          ],
          "name": "stdout"
        }
      ]
    },
    {
      "cell_type": "code",
      "metadata": {
        "ExecuteTime": {
          "end_time": "2021-02-25T02:49:52.303452Z",
          "start_time": "2021-02-25T02:49:52.298907Z"
        },
        "id": "DLoXQeL1Pm-e"
      },
      "source": [
        "# Default word tokens\n",
        "PAD_token = 0  # Used for padding short sentences\n",
        "SOS_token = 1  # Start-of-sentence token\n",
        "EOS_token = 2  # End-of-sentence token\n",
        "\n",
        "class Voc:\n",
        "    def __init__(self, name):\n",
        "        self.name = name\n",
        "        self.trimmed = False\n",
        "        self.word2index = {}\n",
        "        self.word2count = {}\n",
        "        self.index2word = {PAD_token: \"PAD\", SOS_token: \"SOS\", EOS_token: \"EOS\"}\n",
        "        self.num_words = 3  # Count SOS, EOS, PAD\n",
        "\n",
        "    def addSentence(self, sentence):\n",
        "        for word in sentence.split(' '):\n",
        "            self.addWord(word)\n",
        "\n",
        "    def addWord(self, word):\n",
        "        if word not in self.word2index:\n",
        "            self.word2index[word] = self.num_words\n",
        "            self.word2count[word] = 1\n",
        "            self.index2word[self.num_words] = word\n",
        "            self.num_words += 1\n",
        "        else:\n",
        "            self.word2count[word] += 1\n",
        "\n",
        "    # Remove words below a certain count threshold\n",
        "    def trim(self, min_count):\n",
        "        if self.trimmed:\n",
        "            return\n",
        "        self.trimmed = True\n",
        "\n",
        "        keep_words = []\n",
        "\n",
        "        for k, v in self.word2count.items():\n",
        "            if v >= min_count:\n",
        "                keep_words.append(k)\n",
        "\n",
        "        print('keep_words {} / {} = {:.4f}'.format(\n",
        "            len(keep_words), len(self.word2index), len(keep_words) / len(self.word2index)\n",
        "        ))\n",
        "\n",
        "        # Reinitialize dictionaries\n",
        "        self.word2index = {}\n",
        "        self.word2count = {}\n",
        "        self.index2word = {PAD_token: \"PAD\", SOS_token: \"SOS\", EOS_token: \"EOS\"}\n",
        "        self.num_words = 3 # Count default tokens\n",
        "\n",
        "        for word in keep_words:\n",
        "            self.addWord(word)"
      ],
      "execution_count": 8,
      "outputs": []
    },
    {
      "cell_type": "code",
      "metadata": {
        "ExecuteTime": {
          "end_time": "2021-02-25T02:49:59.814181Z",
          "start_time": "2021-02-25T02:49:52.304602Z"
        },
        "id": "ct9buVqBPm-g",
        "colab": {
          "base_uri": "https://localhost:8080/"
        },
        "outputId": "37703085-805f-4241-c071-5655c676bfb9"
      },
      "source": [
        "MAX_LENGTH = 10  # Maximum sentence length to consider\n",
        "\n",
        "# Turn a Unicode string to plain ASCII, thanks to\n",
        "# https://stackoverflow.com/a/518232/2809427\n",
        "def unicodeToAscii(s):\n",
        "    return ''.join(\n",
        "        c for c in unicodedata.normalize('NFD', s)\n",
        "        if unicodedata.category(c) != 'Mn'\n",
        "    )\n",
        "\n",
        "# Lowercase, trim, and remove non-letter characters\n",
        "def normalizeString(s):\n",
        "    s = unicodeToAscii(s.lower().strip())\n",
        "    s = re.sub(r\"([.!?])\", r\" \\1\", s)\n",
        "    s = re.sub(r\"[^a-zA-Z.!?]+\", r\" \", s)\n",
        "    s = re.sub(r\"\\s+\", r\" \", s).strip()\n",
        "    return s\n",
        "\n",
        "# Read query/response pairs and return a voc object\n",
        "def readVocs(datafile, corpus_name):\n",
        "    print(\"Reading lines...\")\n",
        "    # Read the file and split into lines\n",
        "    lines = open(datafile, encoding='utf-8').\\\n",
        "        read().strip().split('\\n')\n",
        "    # Split every line into pairs and normalize\n",
        "    pairs = [[normalizeString(s) for s in l.split('\\t')] for l in lines]\n",
        "    voc = Voc(corpus_name)\n",
        "    return voc, pairs\n",
        "\n",
        "# Returns True iff both sentences in a pair 'p' are under the MAX_LENGTH threshold\n",
        "def filterPair(p):\n",
        "    # Input sequences need to preserve the last word for EOS token\n",
        "    return len(p[0].split(' ')) < MAX_LENGTH and len(p[1].split(' ')) < MAX_LENGTH\n",
        "\n",
        "# Filter pairs using filterPair condition\n",
        "def filterPairs(pairs):\n",
        "    return [pair for pair in pairs if filterPair(pair)]\n",
        "\n",
        "# Using the functions defined above, return a populated voc object and pairs list\n",
        "def loadPrepareData(corpus, corpus_name, datafile, save_dir):\n",
        "    print(\"Start preparing training data ...\")\n",
        "    voc, pairs = readVocs(datafile, corpus_name)\n",
        "    print(\"Read {!s} sentence pairs\".format(len(pairs)))\n",
        "    pairs = filterPairs(pairs)\n",
        "    print(\"Trimmed to {!s} sentence pairs\".format(len(pairs)))\n",
        "    print(\"Counting words...\")\n",
        "    for pair in pairs:\n",
        "        voc.addSentence(pair[0])\n",
        "        voc.addSentence(pair[1])\n",
        "    print(\"Counted words:\", voc.num_words)\n",
        "    return voc, pairs\n",
        "\n",
        "\n",
        "# Load/Assemble voc and pairs\n",
        "save_dir = os.path.join(\"data\", \"save\")\n",
        "voc, pairs = loadPrepareData(corpus, corpus_name, datafile, save_dir)\n",
        "# Print some pairs to validate\n",
        "print(\"\\npairs:\")\n",
        "for pair in pairs[:10]:\n",
        "    print(pair)"
      ],
      "execution_count": 9,
      "outputs": [
        {
          "output_type": "stream",
          "text": [
            "Start preparing training data ...\n",
            "Reading lines...\n",
            "Read 221282 sentence pairs\n",
            "Trimmed to 64271 sentence pairs\n",
            "Counting words...\n",
            "Counted words: 18008\n",
            "\n",
            "pairs:\n",
            "['there .', 'where ?']\n",
            "['you have my word . as a gentleman', 'you re sweet .']\n",
            "['hi .', 'looks like things worked out tonight huh ?']\n",
            "['you know chastity ?', 'i believe we share an art instructor']\n",
            "['have fun tonight ?', 'tons']\n",
            "['well no . . .', 'then that s all you had to say .']\n",
            "['then that s all you had to say .', 'but']\n",
            "['but', 'you always been this selfish ?']\n",
            "['do you listen to this crap ?', 'what crap ?']\n",
            "['what good stuff ?', 'the real you .']\n"
          ],
          "name": "stdout"
        }
      ]
    },
    {
      "cell_type": "code",
      "metadata": {
        "ExecuteTime": {
          "end_time": "2021-02-25T02:50:00.199288Z",
          "start_time": "2021-02-25T02:49:59.815112Z"
        },
        "id": "sKj7L7YPPm-k"
      },
      "source": [
        "spacy_en = spacy.load('en')\n",
        "\n",
        "def tokenize_en(text):\n",
        "    \"\"\"\n",
        "    Tokenizes English text from a string into a list of strings\n",
        "    \"\"\"\n",
        "    return [tok.text for tok in spacy_en.tokenizer(text)]\n",
        "\n",
        "SRC = Field(tokenize = tokenize_en, \n",
        "            init_token = '<sos>', \n",
        "            eos_token = '<eos>', \n",
        "            lower = True, \n",
        "            batch_first = True)\n",
        "\n",
        "TRG = Field(tokenize = tokenize_en, \n",
        "            init_token = '<sos>', \n",
        "            eos_token = '<eos>', \n",
        "            lower = True, \n",
        "            batch_first = True)\n",
        "\n",
        "fields = [('src', SRC),('trg',TRG)]"
      ],
      "execution_count": 11,
      "outputs": []
    },
    {
      "cell_type": "code",
      "metadata": {
        "ExecuteTime": {
          "end_time": "2021-02-25T02:50:03.001183Z",
          "start_time": "2021-02-25T02:50:00.200179Z"
        },
        "id": "dSM9Np-7Pm-m",
        "colab": {
          "base_uri": "https://localhost:8080/"
        },
        "outputId": "ddf312cb-bc04-41f6-8642-7fbad53f6643"
      },
      "source": [
        "# torchtext example\n",
        "example = [data.Example.fromlist([pairs[i][0],pairs[i][1]], fields) for i in tqdm(range(len(pairs)))] "
      ],
      "execution_count": 12,
      "outputs": [
        {
          "output_type": "stream",
          "text": [
            "100%|██████████| 64271/64271 [00:04<00:00, 14764.82it/s]\n"
          ],
          "name": "stderr"
        }
      ]
    },
    {
      "cell_type": "code",
      "metadata": {
        "ExecuteTime": {
          "end_time": "2021-02-25T02:50:03.009418Z",
          "start_time": "2021-02-25T02:50:03.002535Z"
        },
        "id": "5HowlUxGPm-q",
        "colab": {
          "base_uri": "https://localhost:8080/"
        },
        "outputId": "6bcacaa1-1e83-4b98-f119-4cc0c1417869"
      },
      "source": [
        "# testing data\n",
        "index = random.randint(0,1000)\n",
        "example[index].src,example[index].trg"
      ],
      "execution_count": 13,
      "outputs": [
        {
          "output_type": "execute_result",
          "data": {
            "text/plain": [
              "(['frank', 's', 'the', 'best', 'pilot', 'in', 'the', 'program', '.'],\n",
              " ['i', 'm', 'so', 'excited', 'simon', '.'])"
            ]
          },
          "metadata": {
            "tags": []
          },
          "execution_count": 13
        }
      ]
    },
    {
      "cell_type": "code",
      "metadata": {
        "ExecuteTime": {
          "end_time": "2021-02-25T02:50:03.058979Z",
          "start_time": "2021-02-25T02:50:03.010467Z"
        },
        "id": "Kkg-65TtPm-s"
      },
      "source": [
        "# creating dataset\n",
        "botDataset = data.Dataset(example, fields)\n",
        "(train_data, valid_data, test_data) = botDataset.split(split_ratio=[0.70, 0.15, 0.15], random_state=random.seed(SEED))"
      ],
      "execution_count": 16,
      "outputs": []
    },
    {
      "cell_type": "code",
      "metadata": {
        "ExecuteTime": {
          "end_time": "2021-02-25T02:50:03.062151Z",
          "start_time": "2021-02-25T02:50:03.059948Z"
        },
        "id": "Jr1VlFEePm-s",
        "colab": {
          "base_uri": "https://localhost:8080/"
        },
        "outputId": "019f057d-a454-41f6-e86a-a0dd9ed75324"
      },
      "source": [
        "print('Total training samples --> {}'.format(len(train_data)))\n",
        "print('Total validation samples --> {}'.format(len(valid_data)))\n",
        "print('Total test samples --> {}'.format(len(test_data)))"
      ],
      "execution_count": 17,
      "outputs": [
        {
          "output_type": "stream",
          "text": [
            "Total training samples --> 44990\n",
            "Total validation samples --> 9640\n",
            "Total test samples --> 9641\n"
          ],
          "name": "stdout"
        }
      ]
    },
    {
      "cell_type": "code",
      "metadata": {
        "ExecuteTime": {
          "end_time": "2021-02-25T02:50:03.066766Z",
          "start_time": "2021-02-25T02:50:03.062958Z"
        },
        "id": "i8xzz6BBPm-u",
        "colab": {
          "base_uri": "https://localhost:8080/"
        },
        "outputId": "de42b623-9cc0-444f-d6f6-8e7a2330715e"
      },
      "source": [
        "# testing data\n",
        "index = random.randint(0,1000)\n",
        "vars(test_data.examples[index])"
      ],
      "execution_count": 18,
      "outputs": [
        {
          "output_type": "execute_result",
          "data": {
            "text/plain": [
              "{'src': ['one', 'more', '.'], 'trg': ['your', 'watch', '.']}"
            ]
          },
          "metadata": {
            "tags": []
          },
          "execution_count": 18
        }
      ]
    },
    {
      "cell_type": "code",
      "metadata": {
        "ExecuteTime": {
          "end_time": "2021-02-25T02:50:03.218990Z",
          "start_time": "2021-02-25T02:50:03.067741Z"
        },
        "id": "ip2Pa4inPm-v"
      },
      "source": [
        "# build vocab\n",
        "SRC.build_vocab(train_data, min_freq = 2)\n",
        "TRG.build_vocab(train_data, min_freq = 2)"
      ],
      "execution_count": 19,
      "outputs": []
    },
    {
      "cell_type": "code",
      "metadata": {
        "ExecuteTime": {
          "end_time": "2021-02-25T02:50:03.221881Z",
          "start_time": "2021-02-25T02:50:03.220003Z"
        },
        "id": "L68Ll0bMPm-w"
      },
      "source": [
        "device = torch.device('cuda' if torch.cuda.is_available() else 'cpu')"
      ],
      "execution_count": 20,
      "outputs": []
    },
    {
      "cell_type": "code",
      "metadata": {
        "ExecuteTime": {
          "end_time": "2021-02-25T02:50:03.227012Z",
          "start_time": "2021-02-25T02:50:03.222859Z"
        },
        "id": "mDjjaRyAPm-x"
      },
      "source": [
        "train_iterator, valid_iterator, test_iterator = BucketIterator.splits(\n",
        "    (train_data, valid_data, test_data), \n",
        "    batch_size = BATCH_SIZE,\n",
        "    sort_key = lambda x: len(x.src),\n",
        "    sort_within_batch=True,\n",
        "    device = device)"
      ],
      "execution_count": 32,
      "outputs": []
    },
    {
      "cell_type": "markdown",
      "metadata": {
        "id": "GvGoxLQXPm-z"
      },
      "source": [
        "# Building the transformer model"
      ]
    },
    {
      "cell_type": "markdown",
      "metadata": {
        "id": "DtWtzkS-Pm-z"
      },
      "source": [
        "## Preparing Model based on the Paper \"\" Attention is All you need\"\". \n",
        "\n",
        "Transformers architecture is primarly focused upon attention mechanism where the data i.e key value pairs are divided into multi heads each storing information in seperate dimensionality. \n",
        "\n",
        "Encoder layer consist of self-attention mechanism where the data is passed through serveral fully connected layers after that it is layer normalised , concatenated and again sent to linear layer for giving encoder outputs.\n",
        "\n",
        "![](http://jalammar.github.io/images/t/transformer_resideual_layer_norm_3.png)\n",
        "\n"
      ]
    },
    {
      "cell_type": "code",
      "metadata": {
        "ExecuteTime": {
          "end_time": "2021-02-25T03:36:22.416285Z",
          "start_time": "2021-02-25T03:36:22.412113Z"
        },
        "id": "PkT6WRCDPm-0"
      },
      "source": [
        "\n",
        "'''\n",
        "    Encoder arguments\n",
        "        input_dim --> [src_len,batch_size]\n",
        "        hid_dim --> convert each input word to embedding\n",
        "        n_layers --> number of transformer layers\n",
        "        n_heads --> number of heads for multi head attention\n",
        "        pf_dim --> hidden layer upscaling in pointwise feedforward layer\n",
        "        dropout --> dropout value \n",
        "        device --> gpu or cpu\n",
        "        max_length --> max langth of the sentence, used in positional encoding\n",
        "        \n",
        "    Encoder outputs\n",
        "        src after changing it through the self attention and pointwise feed forward layer\n",
        "        \n",
        "    Encoder description\n",
        "        - combines source and positional embedding\n",
        "        - passes it through self attention layer and calculates attention\n",
        "        - passes attention output to pointwise feed forward layer \n",
        "        - returns the src after passing it to the aforementioned layers\n",
        "'''\n",
        "\n",
        "class Encoder(nn.Module):\n",
        "    def __init__(self, \n",
        "                 input_dim, \n",
        "                 hid_dim, \n",
        "                 n_layers, \n",
        "                 n_heads, \n",
        "                 pf_dim,\n",
        "                 dropout, \n",
        "                 device,\n",
        "                 max_length = 100):\n",
        "        super().__init__()\n",
        "\n",
        "        self.device = device\n",
        "        \n",
        "        self.tok_embedding = nn.Embedding(input_dim, hid_dim)\n",
        "        self.pos_embedding = nn.Embedding(max_length, hid_dim)\n",
        "        \n",
        "        self.layers = nn.ModuleList([EncoderLayer(hid_dim, \n",
        "                                                  n_heads, \n",
        "                                                  pf_dim,\n",
        "                                                  dropout, \n",
        "                                                  device) \n",
        "                                     for _ in range(n_layers)])\n",
        "        \n",
        "        self.dropout = nn.Dropout(dropout)\n",
        "        \n",
        "        self.scale = torch.sqrt(torch.FloatTensor([hid_dim])).to(device)\n",
        "        \n",
        "    def forward(self, src, src_mask):\n",
        "        \n",
        "        #src = [batch size, src len]\n",
        "        #src_mask = [batch size, 1, 1, src len]\n",
        "        \n",
        "        batch_size = src.shape[0]\n",
        "        src_len = src.shape[1]\n",
        "        \n",
        "        pos = torch.arange(0, src_len).unsqueeze(0).repeat(batch_size, 1).to(self.device)\n",
        "        \n",
        "        #pos = [batch size, src len]\n",
        "        \n",
        "        src = self.dropout((self.tok_embedding(src) * self.scale) + self.pos_embedding(pos))\n",
        "        \n",
        "        #src = [batch size, src len, hid dim]\n",
        "        \n",
        "        for layer in self.layers:\n",
        "            src = layer(src, src_mask)\n",
        "            \n",
        "        #src = [batch size, src len, hid dim]\n",
        "            \n",
        "        return src"
      ],
      "execution_count": 33,
      "outputs": []
    },
    {
      "cell_type": "code",
      "metadata": {
        "ExecuteTime": {
          "end_time": "2021-02-25T03:36:35.826898Z",
          "start_time": "2021-02-25T03:36:35.823469Z"
        },
        "id": "Ob7Chjo9Pm-0"
      },
      "source": [
        "'''\n",
        "    EncoderLayer arguments\n",
        "    \n",
        "        hid_dim --> convert each input word to embedding\n",
        "        n_heads --> number of heads for multi head attention\n",
        "        pf_dim --> hidden layer upscaling in pointwise feedforward layer\n",
        "        dropout --> dropout value \n",
        "        device --> gpu or cpu\n",
        "        \n",
        "    EncoderLayer outputs\n",
        "        src after changing it through the self attention and pointwise feed forward layer\n",
        "        \n",
        "    EncoderLayer description\n",
        "        -  First It takes the src coming from encoder and passes it through attention mechanism.\n",
        "        -  Then applies the layer norm and feed forward operations on the transformed source\n",
        "'''\n",
        "\n",
        "class EncoderLayer(nn.Module):\n",
        "    def __init__(self, \n",
        "                 hid_dim, \n",
        "                 n_heads, \n",
        "                 pf_dim,  \n",
        "                 dropout, \n",
        "                 device):\n",
        "        super().__init__()\n",
        "        \n",
        "        self.self_attn_layer_norm = nn.LayerNorm(hid_dim)\n",
        "        self.ff_layer_norm = nn.LayerNorm(hid_dim)\n",
        "        self.self_attention = MultiHeadAttentionLayer(hid_dim, n_heads, dropout, device)\n",
        "        self.positionwise_feedforward = PositionwiseFeedforwardLayer(hid_dim, \n",
        "                                                                     pf_dim, \n",
        "                                                                     dropout)\n",
        "        self.dropout = nn.Dropout(dropout)\n",
        "        \n",
        "    def forward(self, src, src_mask):\n",
        "        \n",
        "        #src = [batch size, src len, hid dim]\n",
        "        #src_mask = [batch size, 1, 1, src len] \n",
        "                \n",
        "        #self attention\n",
        "        _src, _ = self.self_attention(src, src, src, src_mask)\n",
        "        \n",
        "        #dropout, residual connection and layer norm\n",
        "        src = self.self_attn_layer_norm(src + self.dropout(_src))\n",
        "        \n",
        "        #src = [batch size, src len, hid dim]\n",
        "        \n",
        "        #positionwise feedforward\n",
        "        _src = self.positionwise_feedforward(src)\n",
        "        \n",
        "        #dropout, residual and layer norm\n",
        "        src = self.ff_layer_norm(src + self.dropout(_src))\n",
        "        \n",
        "        #src = [batch size, src len, hid dim]\n",
        "        \n",
        "        return src"
      ],
      "execution_count": 34,
      "outputs": []
    },
    {
      "cell_type": "markdown",
      "metadata": {
        "id": "rerUNufpPm-3"
      },
      "source": [
        "## MultiHeadAttention Layer\n",
        "![](https://raw.githubusercontent.com/bentrevett/pytorch-seq2seq/9479fcb532214ad26fd4bda9fcf081a05e1aaf4e/assets/transformer-attention.png)"
      ]
    },
    {
      "cell_type": "code",
      "metadata": {
        "ExecuteTime": {
          "end_time": "2021-02-25T03:36:44.459806Z",
          "start_time": "2021-02-25T03:36:44.454557Z"
        },
        "id": "ZQTSwX5qPm-3"
      },
      "source": [
        "'''\n",
        "    MultiHeadAttentionLayer arguments\n",
        "    \n",
        "        hid_dim --> convert each input word to embedding\n",
        "        n_heads --> number of heads for multi head attention\n",
        "        dropout --> dropout value \n",
        "        device --> gpu or cpu\n",
        "        \n",
        "    MultiHeadAttentionLayer outputs\n",
        "        src after changing it through the self attention mechanism and the attention mask\n",
        "        \n",
        "    MultiHeadAttentionLayer description\n",
        "        -  takes the query key and value matrices\n",
        "        -  computes energy by multiplying query and key matrices\n",
        "        -  apply mask on the energy vector\n",
        "        -  while processing the encoder src mask is the mask where the unnecessary pad tokens are removed\n",
        "        -  while processing the decoder trg mask is the mask where future information is masked so that\n",
        "        -  decoder can only see previous and current word while decoding next word\n",
        "        -  the energy matrix is then multiplied by the value matrix to get the final transformed source matrix\n",
        "        -  we also return the attention mask after applying a softmax on the energy vector \n",
        "        -  this could later be used to visually test the attention on words\n",
        "'''\n",
        "class MultiHeadAttentionLayer(nn.Module):\n",
        "    def __init__(self, hid_dim, n_heads, dropout, device):\n",
        "        super().__init__()\n",
        "        \n",
        "        assert hid_dim % n_heads == 0\n",
        "        \n",
        "        self.hid_dim = hid_dim\n",
        "        self.n_heads = n_heads\n",
        "        self.head_dim = hid_dim // n_heads\n",
        "        \n",
        "        self.fc_q = nn.Linear(hid_dim, hid_dim)\n",
        "        self.fc_k = nn.Linear(hid_dim, hid_dim)\n",
        "        self.fc_v = nn.Linear(hid_dim, hid_dim)\n",
        "        \n",
        "        self.fc_o = nn.Linear(hid_dim, hid_dim)\n",
        "        \n",
        "        self.dropout = nn.Dropout(dropout)\n",
        "        \n",
        "        self.scale = torch.sqrt(torch.FloatTensor([self.head_dim])).to(device)\n",
        "        \n",
        "    def forward(self, query, key, value, mask = None):\n",
        "        \n",
        "        batch_size = query.shape[0]\n",
        "        \n",
        "        #query = [batch size, query len, hid dim]\n",
        "        #key = [batch size, key len, hid dim]\n",
        "        #value = [batch size, value len, hid dim]\n",
        "                \n",
        "        Q = self.fc_q(query)\n",
        "        K = self.fc_k(key)\n",
        "        V = self.fc_v(value)\n",
        "        \n",
        "        #Q = [batch size, query len, hid dim]\n",
        "        #K = [batch size, key len, hid dim]\n",
        "        #V = [batch size, value len, hid dim]\n",
        "                \n",
        "        Q = Q.view(batch_size, -1, self.n_heads, self.head_dim).permute(0, 2, 1, 3)\n",
        "        K = K.view(batch_size, -1, self.n_heads, self.head_dim).permute(0, 2, 1, 3)\n",
        "        V = V.view(batch_size, -1, self.n_heads, self.head_dim).permute(0, 2, 1, 3)\n",
        "        \n",
        "        #Q = [batch size, n heads, query len, head dim]\n",
        "        #K = [batch size, n heads, key len, head dim]\n",
        "        #V = [batch size, n heads, value len, head dim]\n",
        "                \n",
        "        energy = torch.matmul(Q, K.permute(0, 1, 3, 2)) / self.scale\n",
        "        \n",
        "        #energy = [batch size, n heads, query len, key len]\n",
        "        \n",
        "        if mask is not None:\n",
        "            energy = energy.masked_fill(mask == 0, -1e10)\n",
        "        \n",
        "        attention = torch.softmax(energy, dim = -1)\n",
        "                \n",
        "        #attention = [batch size, n heads, query len, key len]\n",
        "                \n",
        "        x = torch.matmul(self.dropout(attention), V)\n",
        "        \n",
        "        #x = [batch size, n heads, query len, head dim]\n",
        "        \n",
        "        x = x.permute(0, 2, 1, 3).contiguous()\n",
        "        \n",
        "        #x = [batch size, query len, n heads, head dim]\n",
        "        \n",
        "        x = x.view(batch_size, -1, self.hid_dim)\n",
        "        \n",
        "        #x = [batch size, query len, hid dim]\n",
        "        \n",
        "        x = self.fc_o(x)\n",
        "        \n",
        "        #x = [batch size, query len, hid dim]\n",
        "        \n",
        "        return x, attention"
      ],
      "execution_count": 35,
      "outputs": []
    },
    {
      "cell_type": "code",
      "metadata": {
        "ExecuteTime": {
          "end_time": "2021-02-25T03:37:11.821749Z",
          "start_time": "2021-02-25T03:37:11.810479Z"
        },
        "id": "MUi3vQFLPm-4"
      },
      "source": [
        "'''\n",
        "    PositionwiseFeedforwardLayer arguments\n",
        "    \n",
        "        hid_dim --> convert each input word to embedding\n",
        "        pf_dim --> hidden layer upscaling in pointwise feedforward layer\n",
        "        dropout --> dropout value \n",
        "        \n",
        "    PositionwiseFeedforwardLayer outputs\n",
        "        src after changing it through couple of linear layers and relu activation\n",
        "        \n",
        "'''\n",
        "\n",
        "class PositionwiseFeedforwardLayer(nn.Module):\n",
        "    def __init__(self, hid_dim, pf_dim, dropout):\n",
        "        super().__init__()\n",
        "        \n",
        "        self.fc_1 = nn.Linear(hid_dim, pf_dim)\n",
        "        self.fc_2 = nn.Linear(pf_dim, hid_dim)\n",
        "        \n",
        "        self.dropout = nn.Dropout(dropout)\n",
        "        \n",
        "    def forward(self, x):\n",
        "        \n",
        "        #x = [batch size, seq len, hid dim]\n",
        "        \n",
        "        x = self.dropout(torch.relu(self.fc_1(x)))\n",
        "        \n",
        "        #x = [batch size, seq len, pf dim]\n",
        "        \n",
        "        x = self.fc_2(x)\n",
        "        \n",
        "        #x = [batch size, seq len, hid dim]\n",
        "        \n",
        "        return x"
      ],
      "execution_count": 36,
      "outputs": []
    },
    {
      "cell_type": "markdown",
      "metadata": {
        "id": "KGl_i7RfPm-4"
      },
      "source": [
        "# Decoder\n",
        "![](https://raw.githubusercontent.com/bentrevett/pytorch-seq2seq/9479fcb532214ad26fd4bda9fcf081a05e1aaf4e/assets/transformer-decoder.png)"
      ]
    },
    {
      "cell_type": "code",
      "metadata": {
        "ExecuteTime": {
          "end_time": "2021-02-25T02:50:04.508731Z",
          "start_time": "2021-02-25T02:50:04.504533Z"
        },
        "id": "2mC3gn37Pm-5"
      },
      "source": [
        "'''\n",
        "    Decoder arguments\n",
        "        output_dim --> [teg_len,batch_size]\n",
        "        hid_dim --> convert each input word to embedding\n",
        "        n_layers --> number of transformer layers\n",
        "        n_heads --> number of heads for multi head attention\n",
        "        pf_dim --> \n",
        "        dropout --> dropout value \n",
        "        device --> gpu or cpu\n",
        "        max_length --> max langth of the sentence, used in positional encoding\n",
        "        \n",
        "    Decoder outputs\n",
        "        trg after changing it through the layers shown in the figure above\n",
        "        \n",
        "    Decoder description\n",
        "        - combines trg and postional embedding\n",
        "        - passes it through the decoder layers as shown in the figure \n",
        "        - the final output is passed through linear layer to match output vocab dimension\n",
        "        - we would later do softmax on this output to find the best word prediction\n",
        "\n",
        "'''\n",
        "\n",
        "class Decoder(nn.Module):\n",
        "    def __init__(self, \n",
        "                 output_dim, \n",
        "                 hid_dim, \n",
        "                 n_layers, \n",
        "                 n_heads, \n",
        "                 pf_dim, \n",
        "                 dropout, \n",
        "                 device,\n",
        "                 max_length = 100):\n",
        "        super().__init__()\n",
        "        \n",
        "        self.device = device\n",
        "        \n",
        "        self.tok_embedding = nn.Embedding(output_dim, hid_dim)\n",
        "        self.pos_embedding = nn.Embedding(max_length, hid_dim)\n",
        "        \n",
        "        self.layers = nn.ModuleList([DecoderLayer(hid_dim, \n",
        "                                                  n_heads, \n",
        "                                                  pf_dim, \n",
        "                                                  dropout, \n",
        "                                                  device)\n",
        "                                     for _ in range(n_layers)])\n",
        "        \n",
        "        self.fc_out = nn.Linear(hid_dim, output_dim)\n",
        "        \n",
        "        self.dropout = nn.Dropout(dropout)\n",
        "        \n",
        "        self.scale = torch.sqrt(torch.FloatTensor([hid_dim])).to(device)\n",
        "        \n",
        "    def forward(self, trg, enc_src, trg_mask, src_mask):\n",
        "        \n",
        "        #trg = [batch size, trg len]\n",
        "        #enc_src = [batch size, src len, hid dim]\n",
        "        #trg_mask = [batch size, 1, trg len, trg len]\n",
        "        #src_mask = [batch size, 1, 1, src len]\n",
        "                \n",
        "        batch_size = trg.shape[0]\n",
        "        trg_len = trg.shape[1]\n",
        "        \n",
        "        pos = torch.arange(0, trg_len).unsqueeze(0).repeat(batch_size, 1).to(self.device)\n",
        "                            \n",
        "        #pos = [batch size, trg len]\n",
        "            \n",
        "        trg = self.dropout((self.tok_embedding(trg) * self.scale) + self.pos_embedding(pos))\n",
        "                \n",
        "        #trg = [batch size, trg len, hid dim]\n",
        "        \n",
        "        for layer in self.layers:\n",
        "            trg, attention = layer(trg, enc_src, trg_mask, src_mask)\n",
        "        \n",
        "        #trg = [batch size, trg len, hid dim]\n",
        "        #attention = [batch size, n heads, trg len, src len]\n",
        "        \n",
        "        output = self.fc_out(trg)\n",
        "        \n",
        "        #output = [batch size, trg len, output dim]\n",
        "            \n",
        "        return output, attention"
      ],
      "execution_count": 37,
      "outputs": []
    },
    {
      "cell_type": "code",
      "metadata": {
        "ExecuteTime": {
          "end_time": "2021-02-25T02:50:04.513606Z",
          "start_time": "2021-02-25T02:50:04.509613Z"
        },
        "id": "lSofGw7XPm-6"
      },
      "source": [
        "'''\n",
        "    DecoderLayer arguments\n",
        "    \n",
        "        hid_dim --> convert each input word to embedding\n",
        "        n_heads --> number of heads for multi head attention\n",
        "        pf_dim --> hidden layer upscaling in pointwise feedforward layer\n",
        "        dropout --> dropout value \n",
        "        device --> gpu or cpu\n",
        "        \n",
        "    DecoderLayer outputs\n",
        "        trg after changing it through the self attention and pointwise feed forward layers\n",
        "        \n",
        "    DecoderLayer description\n",
        "        - The decoder layer is almost as same as encoder layer with thr following changes\n",
        "        - decoder layer uses 2 attention layers\n",
        "        - first trg goes through self attention layer and attention is calculated, here trg is masked using trg_mask\n",
        "        - attention output is then passed through add and layernorm block\n",
        "        - again we calculate attention using encoder key value and decoder query\n",
        "        - this 2nd attention output is then passed through add and layernorm block\n",
        "'''\n",
        "\n",
        "class DecoderLayer(nn.Module):\n",
        "    def __init__(self, \n",
        "                 hid_dim, \n",
        "                 n_heads, \n",
        "                 pf_dim, \n",
        "                 dropout, \n",
        "                 device):\n",
        "        super().__init__()\n",
        "        \n",
        "        self.self_attn_layer_norm = nn.LayerNorm(hid_dim)\n",
        "        self.enc_attn_layer_norm = nn.LayerNorm(hid_dim)\n",
        "        self.ff_layer_norm = nn.LayerNorm(hid_dim)\n",
        "        self.self_attention = MultiHeadAttentionLayer(hid_dim, n_heads, dropout, device)\n",
        "        self.encoder_attention = MultiHeadAttentionLayer(hid_dim, n_heads, dropout, device)\n",
        "        self.positionwise_feedforward = PositionwiseFeedforwardLayer(hid_dim, \n",
        "                                                                     pf_dim, \n",
        "                                                                     dropout)\n",
        "        self.dropout = nn.Dropout(dropout)\n",
        "        \n",
        "    def forward(self, trg, enc_src, trg_mask, src_mask):\n",
        "        \n",
        "        #trg = [batch size, trg len, hid dim]\n",
        "        #enc_src = [batch size, src len, hid dim]\n",
        "        #trg_mask = [batch size, 1, trg len, trg len]\n",
        "        #src_mask = [batch size, 1, 1, src len]\n",
        "        \n",
        "        #self attention\n",
        "        _trg, _ = self.self_attention(trg, trg, trg, trg_mask)\n",
        "        \n",
        "        #dropout, residual connection and layer norm\n",
        "        trg = self.self_attn_layer_norm(trg + self.dropout(_trg))\n",
        "            \n",
        "        #trg = [batch size, trg len, hid dim]\n",
        "            \n",
        "        #encoder attention\n",
        "        _trg, attention = self.encoder_attention(trg, enc_src, enc_src, src_mask)\n",
        "        # query, key, value\n",
        "        \n",
        "        #dropout, residual connection and layer norm\n",
        "        trg = self.enc_attn_layer_norm(trg + self.dropout(_trg))\n",
        "                    \n",
        "        #trg = [batch size, trg len, hid dim]\n",
        "        \n",
        "        #positionwise feedforward\n",
        "        _trg = self.positionwise_feedforward(trg)\n",
        "        \n",
        "        #dropout, residual and layer norm\n",
        "        trg = self.ff_layer_norm(trg + self.dropout(_trg))\n",
        "        \n",
        "        #trg = [batch size, trg len, hid dim]\n",
        "        #attention = [batch size, n heads, trg len, src len]\n",
        "        \n",
        "        return trg, attention"
      ],
      "execution_count": 38,
      "outputs": []
    },
    {
      "cell_type": "code",
      "metadata": {
        "ExecuteTime": {
          "end_time": "2021-02-25T02:50:04.518489Z",
          "start_time": "2021-02-25T02:50:04.514421Z"
        },
        "id": "i7dy-1NxPm-7"
      },
      "source": [
        "class Seq2Seq(nn.Module):\n",
        "    def __init__(self, \n",
        "                 encoder, \n",
        "                 decoder, \n",
        "                 src_pad_idx, \n",
        "                 trg_pad_idx, \n",
        "                 device):\n",
        "        super().__init__()\n",
        "        \n",
        "        self.encoder = encoder\n",
        "        self.decoder = decoder\n",
        "        self.src_pad_idx = src_pad_idx\n",
        "        self.trg_pad_idx = trg_pad_idx\n",
        "        self.device = device\n",
        "        \n",
        "    def make_src_mask(self, src):\n",
        "        \n",
        "        #src = [batch size, src len]\n",
        "        \n",
        "        src_mask = (src != self.src_pad_idx).unsqueeze(1).unsqueeze(2)\n",
        "\n",
        "        #src_mask = [batch size, 1, 1, src len]\n",
        "\n",
        "        return src_mask\n",
        "    \n",
        "    def make_trg_mask(self, trg):\n",
        "        \n",
        "        #trg = [batch size, trg len]\n",
        "        \n",
        "        trg_pad_mask = (trg != self.trg_pad_idx).unsqueeze(1).unsqueeze(2)\n",
        "        \n",
        "        #trg_pad_mask = [batch size, 1, 1, trg len]\n",
        "        \n",
        "        trg_len = trg.shape[1]\n",
        "        \n",
        "        trg_sub_mask = torch.tril(torch.ones((trg_len, trg_len), device = self.device)).bool()\n",
        "        \n",
        "        #trg_sub_mask = [trg len, trg len]\n",
        "            \n",
        "        trg_mask = trg_pad_mask & trg_sub_mask\n",
        "        \n",
        "        #trg_mask = [batch size, 1, trg len, trg len]\n",
        "        \n",
        "        return trg_mask\n",
        "\n",
        "    def forward(self, src, trg):\n",
        "        \n",
        "        #src = [batch size, src len]\n",
        "        #trg = [batch size, trg len]\n",
        "                \n",
        "        src_mask = self.make_src_mask(src)\n",
        "        trg_mask = self.make_trg_mask(trg)\n",
        "        \n",
        "        #src_mask = [batch size, 1, 1, src len]\n",
        "        #trg_mask = [batch size, 1, trg len, trg len]\n",
        "        \n",
        "        enc_src = self.encoder(src, src_mask)\n",
        "        \n",
        "        #enc_src = [batch size, src len, hid dim]\n",
        "                \n",
        "        output, attention = self.decoder(trg, enc_src, trg_mask, src_mask)\n",
        "        \n",
        "        #output = [batch size, trg len, output dim]\n",
        "        #attention = [batch size, n heads, trg len, src len]\n",
        "        \n",
        "        return output, attention"
      ],
      "execution_count": 39,
      "outputs": []
    },
    {
      "cell_type": "code",
      "metadata": {
        "ExecuteTime": {
          "end_time": "2021-02-25T02:50:04.574281Z",
          "start_time": "2021-02-25T02:50:04.519711Z"
        },
        "id": "y-svM6_gPm-7"
      },
      "source": [
        "INPUT_DIM = len(SRC.vocab)\n",
        "OUTPUT_DIM = len(TRG.vocab)\n",
        "HID_DIM = 256\n",
        "ENC_LAYERS = 3\n",
        "DEC_LAYERS = 3\n",
        "ENC_HEADS = 8\n",
        "DEC_HEADS = 8\n",
        "ENC_PF_DIM = 512\n",
        "DEC_PF_DIM = 512\n",
        "ENC_DROPOUT = 0.1\n",
        "DEC_DROPOUT = 0.1\n",
        "\n",
        "enc = Encoder(INPUT_DIM, \n",
        "              HID_DIM, \n",
        "              ENC_LAYERS, \n",
        "              ENC_HEADS, \n",
        "              ENC_PF_DIM, \n",
        "              ENC_DROPOUT, \n",
        "              device)\n",
        "\n",
        "dec = Decoder(OUTPUT_DIM, \n",
        "              HID_DIM, \n",
        "              DEC_LAYERS, \n",
        "              DEC_HEADS, \n",
        "              DEC_PF_DIM, \n",
        "              DEC_DROPOUT, \n",
        "              device)"
      ],
      "execution_count": 40,
      "outputs": []
    },
    {
      "cell_type": "code",
      "metadata": {
        "ExecuteTime": {
          "end_time": "2021-02-25T02:50:04.585282Z",
          "start_time": "2021-02-25T02:50:04.575160Z"
        },
        "id": "iI6Gl_wBPm-8"
      },
      "source": [
        "SRC_PAD_IDX = SRC.vocab.stoi[SRC.pad_token]\n",
        "TRG_PAD_IDX = TRG.vocab.stoi[TRG.pad_token]\n",
        "\n",
        "model = Seq2Seq(enc, dec, SRC_PAD_IDX, TRG_PAD_IDX, device).to(device)"
      ],
      "execution_count": 41,
      "outputs": []
    },
    {
      "cell_type": "code",
      "metadata": {
        "ExecuteTime": {
          "end_time": "2021-02-25T02:50:04.588551Z",
          "start_time": "2021-02-25T02:50:04.586132Z"
        },
        "id": "4jO-xjq8Pm-9",
        "colab": {
          "base_uri": "https://localhost:8080/"
        },
        "outputId": "ecd40bcb-5a0f-4b45-d0df-618423a6a06a"
      },
      "source": [
        "def count_parameters(model):\n",
        "    return sum(p.numel() for p in model.parameters() if p.requires_grad)\n",
        "\n",
        "print(f'The model has {count_parameters(model):,} trainable parameters')"
      ],
      "execution_count": 42,
      "outputs": [
        {
          "output_type": "stream",
          "text": [
            "The model has 8,313,519 trainable parameters\n"
          ],
          "name": "stdout"
        }
      ]
    },
    {
      "cell_type": "code",
      "metadata": {
        "ExecuteTime": {
          "end_time": "2021-02-25T02:50:04.591997Z",
          "start_time": "2021-02-25T02:50:04.589401Z"
        },
        "id": "YT_C4xuwPm--"
      },
      "source": [
        "def initialize_weights(m):\n",
        "    if hasattr(m, 'weight') and m.weight.dim() > 1:\n",
        "        nn.init.xavier_uniform_(m.weight.data)"
      ],
      "execution_count": 43,
      "outputs": []
    },
    {
      "cell_type": "code",
      "metadata": {
        "ExecuteTime": {
          "end_time": "2021-02-25T02:50:04.596967Z",
          "start_time": "2021-02-25T02:50:04.592862Z"
        },
        "id": "SL-zypO8Pm--"
      },
      "source": [
        "model.apply(initialize_weights);"
      ],
      "execution_count": 44,
      "outputs": []
    },
    {
      "cell_type": "code",
      "metadata": {
        "ExecuteTime": {
          "end_time": "2021-02-25T02:50:04.599946Z",
          "start_time": "2021-02-25T02:50:04.597881Z"
        },
        "id": "ms_IUeC6Pm-_"
      },
      "source": [
        "LEARNING_RATE = 0.0005\n",
        "\n",
        "optimizer = torch.optim.Adam(model.parameters(), lr = LEARNING_RATE)"
      ],
      "execution_count": 45,
      "outputs": []
    },
    {
      "cell_type": "code",
      "metadata": {
        "ExecuteTime": {
          "end_time": "2021-02-25T02:50:04.603699Z",
          "start_time": "2021-02-25T02:50:04.600867Z"
        },
        "id": "auV4-SZbPm_D"
      },
      "source": [
        "criterion = nn.CrossEntropyLoss(ignore_index = TRG_PAD_IDX)"
      ],
      "execution_count": 46,
      "outputs": []
    },
    {
      "cell_type": "code",
      "metadata": {
        "ExecuteTime": {
          "end_time": "2021-02-25T02:50:04.607834Z",
          "start_time": "2021-02-25T02:50:04.604593Z"
        },
        "id": "kNS24IwkPm_E"
      },
      "source": [
        "def train(model, iterator, optimizer, criterion, clip):\n",
        "    \n",
        "    model.train()\n",
        "    \n",
        "    epoch_loss = 0\n",
        "    \n",
        "    for i, batch in enumerate(iterator):\n",
        "        \n",
        "        src = batch.src\n",
        "        trg = batch.trg\n",
        "        \n",
        "        optimizer.zero_grad()\n",
        "        \n",
        "        output, _ = model(src, trg[:,:-1])\n",
        "                \n",
        "        #output = [batch size, trg len - 1, output dim]\n",
        "        #trg = [batch size, trg len]\n",
        "            \n",
        "        output_dim = output.shape[-1]\n",
        "            \n",
        "        output = output.contiguous().view(-1, output_dim)\n",
        "        trg = trg[:,1:].contiguous().view(-1)\n",
        "                \n",
        "        #output = [batch size * trg len - 1, output dim]\n",
        "        #trg = [batch size * trg len - 1]\n",
        "            \n",
        "        loss = criterion(output, trg)\n",
        "        \n",
        "        loss.backward()\n",
        "        \n",
        "        torch.nn.utils.clip_grad_norm_(model.parameters(), clip)\n",
        "        \n",
        "        optimizer.step()\n",
        "        \n",
        "        epoch_loss += loss.item()\n",
        "        \n",
        "    return epoch_loss / len(iterator)"
      ],
      "execution_count": 47,
      "outputs": []
    },
    {
      "cell_type": "code",
      "metadata": {
        "ExecuteTime": {
          "end_time": "2021-02-25T02:50:04.612887Z",
          "start_time": "2021-02-25T02:50:04.608724Z"
        },
        "id": "mQnbfNmkPm_E"
      },
      "source": [
        "def evaluate(model, iterator, criterion):\n",
        "    \n",
        "    model.eval()\n",
        "    \n",
        "    epoch_loss = 0\n",
        "    \n",
        "    with torch.no_grad():\n",
        "    \n",
        "        for i, batch in enumerate(iterator):\n",
        "\n",
        "            src = batch.src\n",
        "            trg = batch.trg\n",
        "\n",
        "            output, _ = model(src, trg[:,:-1])\n",
        "            \n",
        "            #output = [batch size, trg len - 1, output dim]\n",
        "            #trg = [batch size, trg len]\n",
        "            \n",
        "            output_dim = output.shape[-1]\n",
        "            \n",
        "            output = output.contiguous().view(-1, output_dim)\n",
        "            trg = trg[:,1:].contiguous().view(-1)\n",
        "            \n",
        "            #output = [batch size * trg len - 1, output dim]\n",
        "            #trg = [batch size * trg len - 1]\n",
        "            \n",
        "            loss = criterion(output, trg)\n",
        "\n",
        "            epoch_loss += loss.item()\n",
        "        \n",
        "    return epoch_loss / len(iterator)"
      ],
      "execution_count": 48,
      "outputs": []
    },
    {
      "cell_type": "code",
      "metadata": {
        "ExecuteTime": {
          "end_time": "2021-02-25T02:50:04.617132Z",
          "start_time": "2021-02-25T02:50:04.613797Z"
        },
        "id": "_WfK5WmSPm_G"
      },
      "source": [
        "def epoch_time(start_time, end_time):\n",
        "    elapsed_time = end_time - start_time\n",
        "    elapsed_mins = int(elapsed_time / 60)\n",
        "    elapsed_secs = int(elapsed_time - (elapsed_mins * 60))\n",
        "    return elapsed_mins, elapsed_secs"
      ],
      "execution_count": 49,
      "outputs": []
    },
    {
      "cell_type": "code",
      "metadata": {
        "ExecuteTime": {
          "end_time": "2021-02-25T02:52:53.929491Z",
          "start_time": "2021-02-25T02:50:04.618092Z"
        },
        "id": "q4E7EGEqPm_H",
        "colab": {
          "base_uri": "https://localhost:8080/"
        },
        "outputId": "d025d8a2-0cfe-48cf-85e2-7e947c2a2604"
      },
      "source": [
        "best_valid_loss = float('inf')\n",
        "\n",
        "for epoch in range(N_EPOCHS):\n",
        "    \n",
        "    start_time = time.time()\n",
        "    \n",
        "    train_loss = train(model, train_iterator, optimizer, criterion, CLIP)\n",
        "    valid_loss = evaluate(model, valid_iterator, criterion)\n",
        "    \n",
        "    end_time = time.time()\n",
        "    \n",
        "    epoch_mins, epoch_secs = epoch_time(start_time, end_time)\n",
        "    \n",
        "    if valid_loss < best_valid_loss:\n",
        "        best_valid_loss = valid_loss\n",
        "        torch.save(model.state_dict(), 'tut6-model.pt')\n",
        "    \n",
        "    print(f'Epoch: {epoch+1:02} | Time: {epoch_mins}m {epoch_secs}s')\n",
        "    print(f'\\tTrain Loss: {train_loss:.3f} | Train PPL: {math.exp(train_loss):7.3f}')\n",
        "    print(f'\\t Val. Loss: {valid_loss:.3f} |  Val. PPL: {math.exp(valid_loss):7.3f}')"
      ],
      "execution_count": 50,
      "outputs": [
        {
          "output_type": "stream",
          "text": [
            "Epoch: 01 | Time: 0m 17s\n",
            "\tTrain Loss: 4.196 | Train PPL:  66.410\n",
            "\t Val. Loss: 3.583 |  Val. PPL:  35.968\n",
            "Epoch: 02 | Time: 0m 17s\n",
            "\tTrain Loss: 3.560 | Train PPL:  35.170\n",
            "\t Val. Loss: 3.430 |  Val. PPL:  30.865\n",
            "Epoch: 03 | Time: 0m 17s\n",
            "\tTrain Loss: 3.378 | Train PPL:  29.299\n",
            "\t Val. Loss: 3.376 |  Val. PPL:  29.247\n",
            "Epoch: 04 | Time: 0m 17s\n",
            "\tTrain Loss: 3.245 | Train PPL:  25.672\n",
            "\t Val. Loss: 3.364 |  Val. PPL:  28.895\n",
            "Epoch: 05 | Time: 0m 17s\n",
            "\tTrain Loss: 3.129 | Train PPL:  22.843\n",
            "\t Val. Loss: 3.355 |  Val. PPL:  28.659\n",
            "Epoch: 06 | Time: 0m 17s\n",
            "\tTrain Loss: 3.027 | Train PPL:  20.634\n",
            "\t Val. Loss: 3.353 |  Val. PPL:  28.585\n",
            "Epoch: 07 | Time: 0m 17s\n",
            "\tTrain Loss: 2.925 | Train PPL:  18.627\n",
            "\t Val. Loss: 3.392 |  Val. PPL:  29.724\n",
            "Epoch: 08 | Time: 0m 17s\n",
            "\tTrain Loss: 2.830 | Train PPL:  16.944\n",
            "\t Val. Loss: 3.415 |  Val. PPL:  30.410\n",
            "Epoch: 09 | Time: 0m 17s\n",
            "\tTrain Loss: 2.736 | Train PPL:  15.432\n",
            "\t Val. Loss: 3.442 |  Val. PPL:  31.255\n",
            "Epoch: 10 | Time: 0m 17s\n",
            "\tTrain Loss: 2.648 | Train PPL:  14.129\n",
            "\t Val. Loss: 3.490 |  Val. PPL:  32.774\n",
            "Epoch: 11 | Time: 0m 17s\n",
            "\tTrain Loss: 2.564 | Train PPL:  12.987\n",
            "\t Val. Loss: 3.540 |  Val. PPL:  34.480\n",
            "Epoch: 12 | Time: 0m 17s\n",
            "\tTrain Loss: 2.483 | Train PPL:  11.978\n",
            "\t Val. Loss: 3.610 |  Val. PPL:  36.985\n",
            "Epoch: 13 | Time: 0m 17s\n",
            "\tTrain Loss: 2.408 | Train PPL:  11.108\n",
            "\t Val. Loss: 3.649 |  Val. PPL:  38.448\n",
            "Epoch: 14 | Time: 0m 17s\n",
            "\tTrain Loss: 2.337 | Train PPL:  10.352\n",
            "\t Val. Loss: 3.702 |  Val. PPL:  40.538\n",
            "Epoch: 15 | Time: 0m 17s\n",
            "\tTrain Loss: 2.271 | Train PPL:   9.691\n",
            "\t Val. Loss: 3.718 |  Val. PPL:  41.188\n"
          ],
          "name": "stdout"
        }
      ]
    },
    {
      "cell_type": "code",
      "metadata": {
        "ExecuteTime": {
          "end_time": "2021-02-25T02:52:53.934294Z",
          "start_time": "2021-02-25T02:52:53.930489Z"
        },
        "id": "VhK71oNYPm_I"
      },
      "source": [
        "def translate_sentence(sentence, src_field, trg_field, model, device, max_len = 50):\n",
        "    \n",
        "    model.eval()\n",
        "        \n",
        "    tokens = [token.lower() for token in sentence]\n",
        "\n",
        "    tokens = [src_field.init_token] + tokens + [src_field.eos_token]\n",
        "        \n",
        "    src_indexes = [src_field.vocab.stoi[token] for token in tokens]\n",
        "\n",
        "    src_tensor = torch.LongTensor(src_indexes).unsqueeze(0).to(device)\n",
        "    \n",
        "    src_mask = model.make_src_mask(src_tensor)\n",
        "    \n",
        "    with torch.no_grad():\n",
        "        enc_src = model.encoder(src_tensor, src_mask)\n",
        "\n",
        "    trg_indexes = [trg_field.vocab.stoi[trg_field.init_token]]\n",
        "\n",
        "    for i in range(max_len):\n",
        "\n",
        "        trg_tensor = torch.LongTensor(trg_indexes).unsqueeze(0).to(device)\n",
        "\n",
        "        trg_mask = model.make_trg_mask(trg_tensor)\n",
        "        \n",
        "        with torch.no_grad():\n",
        "            output, attention = model.decoder(trg_tensor, enc_src, trg_mask, src_mask)\n",
        "        \n",
        "        pred_token = output.argmax(2)[:,-1].item()\n",
        "        \n",
        "        trg_indexes.append(pred_token)\n",
        "\n",
        "        if pred_token == trg_field.vocab.stoi[trg_field.eos_token]:\n",
        "            break\n",
        "    \n",
        "    trg_tokens = [trg_field.vocab.itos[i] for i in trg_indexes]\n",
        "    \n",
        "    return trg_tokens[1:], attention"
      ],
      "execution_count": 51,
      "outputs": []
    },
    {
      "cell_type": "code",
      "metadata": {
        "ExecuteTime": {
          "end_time": "2021-02-25T02:52:53.940194Z",
          "start_time": "2021-02-25T02:52:53.935251Z"
        },
        "id": "49nMWt74Pm_J"
      },
      "source": [
        "# test on one exmaple\n",
        "def chatiing(example_idx):\n",
        "    src = vars(test_data.examples[example_idx])['src']\n",
        "    trg = vars(test_data.examples[example_idx])['trg']\n",
        "\n",
        "    src_sen = ' '.join(src)\n",
        "    trg_sen = ' '.join(trg)\n",
        "    print('---------------------------------------')\n",
        "    print(f'Actual src is ==> {src_sen}')\n",
        "    print(f'Actual trg is ==> {trg_sen}')\n",
        "\n",
        "    translation, attention = translate_sentence(src, SRC, TRG, model, device)\n",
        "\n",
        "    translation_sen = translation[:-1]\n",
        "    translation_sen = ' '.join(translation_sen)\n",
        "    print(f'Predicted trg is ==> {translation_sen}')\n",
        "    print('---------------------------------------')"
      ],
      "execution_count": 52,
      "outputs": []
    },
    {
      "cell_type": "code",
      "metadata": {
        "ExecuteTime": {
          "end_time": "2021-02-25T02:52:53.969822Z",
          "start_time": "2021-02-25T02:52:53.941038Z"
        },
        "id": "IeQy2sHBPm_J",
        "colab": {
          "base_uri": "https://localhost:8080/"
        },
        "outputId": "722cd27d-8472-418c-b40b-3d0e9ba603ae"
      },
      "source": [
        "example_idx = random.randint(0,len(test_data))\n",
        "chatiing(example_idx)"
      ],
      "execution_count": 53,
      "outputs": [
        {
          "output_type": "stream",
          "text": [
            "---------------------------------------\n",
            "Actual src is ==> come on .\n",
            "Actual trg is ==> what s the matter ?\n",
            "Predicted trg is ==> i m not .\n",
            "---------------------------------------\n"
          ],
          "name": "stdout"
        }
      ]
    },
    {
      "cell_type": "code",
      "metadata": {
        "ExecuteTime": {
          "end_time": "2021-02-25T02:52:53.994876Z",
          "start_time": "2021-02-25T02:52:53.970675Z"
        },
        "id": "pvskZe4APm_L",
        "colab": {
          "base_uri": "https://localhost:8080/"
        },
        "outputId": "67bc79da-a2a1-4257-af8d-09dcfaad2f61"
      },
      "source": [
        "example_idx = random.randint(0,len(test_data))\n",
        "chatiing(example_idx)"
      ],
      "execution_count": 54,
      "outputs": [
        {
          "output_type": "stream",
          "text": [
            "---------------------------------------\n",
            "Actual src is ==> you mean the nature of this conversation ?\n",
            "Actual trg is ==> i mean the nature of you .\n",
            "Predicted trg is ==> i don t know what you want .\n",
            "---------------------------------------\n"
          ],
          "name": "stdout"
        }
      ]
    },
    {
      "cell_type": "code",
      "metadata": {
        "ExecuteTime": {
          "end_time": "2021-02-25T02:52:54.018497Z",
          "start_time": "2021-02-25T02:52:53.995937Z"
        },
        "id": "Ukwkp9ASPm_M",
        "colab": {
          "base_uri": "https://localhost:8080/"
        },
        "outputId": "87353c23-fe7d-4c91-cc08-c3b12f1e660d"
      },
      "source": [
        "example_idx = random.randint(0,len(test_data))\n",
        "chatiing(example_idx)"
      ],
      "execution_count": 55,
      "outputs": [
        {
          "output_type": "stream",
          "text": [
            "---------------------------------------\n",
            "Actual src is ==> you telling me what to do roderick ?\n",
            "Actual trg is ==> no sheriff i m just\n",
            "Predicted trg is ==> i m not sure .\n",
            "---------------------------------------\n"
          ],
          "name": "stdout"
        }
      ]
    },
    {
      "cell_type": "code",
      "metadata": {
        "id": "zZB8nYqRPm_Q"
      },
      "source": [
        "import spacy\r\n",
        "spacy_en = spacy.load('en')\r\n",
        "\r\n",
        "def encode_inputs(input,vocab):\r\n",
        "\r\n",
        "  tokenized_input = [tok.text.lower() for tok in spacy_en.tokenizer(input)]\r\n",
        "  tokenized_input = ['<sos>'] + tokenized_input +['<eos>']\r\n",
        "\r\n",
        "  numericalized_input = [vocab[i] for i in tokenized_input]\r\n",
        "\r\n",
        "  tensor_input = torch.LongTensor([numericalized_input])\r\n",
        "  \r\n",
        "  return tensor_input\r\n",
        "\r\n",
        "def decode_outputs(output,vocab):\r\n",
        "  # output: [1,1,hid_dim]\r\n",
        "  predicted_token = output.argmax(-1)\r\n",
        "  return vocab[predicted_token.item()], predicted_token"
      ],
      "execution_count": 56,
      "outputs": []
    },
    {
      "cell_type": "code",
      "metadata": {
        "colab": {
          "base_uri": "https://localhost:8080/"
        },
        "id": "rF_6yInjRsVR",
        "outputId": "c85db721-19a5-45d3-8bab-1ccb71a43d95"
      },
      "source": [
        "print(\" Enter q or quit to exit.\")\r\n",
        "\r\n",
        "chatbot_answer_max_len = 20\r\n",
        "\r\n",
        "while(True):\r\n",
        "\r\n",
        "  input_ = input(\"Enter text:\")\r\n",
        "\r\n",
        "  if input_=='q' or input_=='quit':\r\n",
        "    break\r\n",
        "\r\n",
        "  src = encode_inputs(input_,SRC.vocab.stoi).to(device)\r\n",
        "  src_mask = torch.ones([1,1,1,src.shape[-1]]).to(device)\r\n",
        "\r\n",
        "  trg = '<sos>'\r\n",
        "  trg = torch.LongTensor([SRC.vocab.stoi[trg]]).unsqueeze(0).to(device)\r\n",
        "  trg_mask = torch.ones([1,1,1,1]).to(device)\r\n",
        "\r\n",
        "  with torch.no_grad():\r\n",
        "    enc_src = model.encoder(src,src_mask)\r\n",
        "  \r\n",
        "  decoder_outputs = []\r\n",
        "  for i in range(chatbot_answer_max_len):\r\n",
        "\r\n",
        "    with torch.no_grad():\r\n",
        "      decoder_output,_ = model.decoder(trg,enc_src,trg_mask,src_mask)\r\n",
        "\r\n",
        "    decoder_output_itos_value, trg = decode_outputs(decoder_output,SRC.vocab.itos)\r\n",
        "\r\n",
        "    if decoder_output_itos_value == '<eos>':\r\n",
        "      break\r\n",
        "    decoder_outputs.append(decoder_output_itos_value)\r\n",
        "\r\n",
        "    \r\n",
        "  print(\" \".join(decoder_outputs))"
      ],
      "execution_count": 57,
      "outputs": [
        {
          "output_type": "stream",
          "text": [
            " Enter q or quit to exit.\n",
            "Enter text:hi\n",
            "any .\n",
            "Enter text:you mean the nature of the conversation?\n",
            "i want stay want stay want stay want stay want stay want stay want stay want stay want stay want\n",
            "Enter text:Why are you not working properly?\n",
            "i . . . . . . . . . . . . . . . . . . .\n",
            "Enter text:Hello\n",
            "any . . . . . . . . . . . . . . . . . . .\n",
            "Enter text:a\n",
            "i want ?\n",
            "Enter text:b\n",
            "<unk> . crematorium have where ? it ? it ? it ? it ? it ? it ? it ?\n",
            "Enter text:c\n",
            "it ?\n",
            "Enter text:d\n",
            "s what <unk> . . . . . . . . . . . . . . . . .\n",
            "Enter text:e\n",
            "it me you sure brady\n",
            "Enter text:f\n",
            "your\n",
            "Enter text:H hell\n",
            "you know you know you know you know you know you know you know you know you know you know\n",
            "Enter text:I dont know\n",
            "you know you know you know you know you know you know you know you know you know you know\n",
            "Enter text:WTF\n",
            "it ?\n",
            "Enter text:FUCL\n",
            "it ?\n",
            "Enter text:lk\n",
            "it ?\n",
            "Enter text:as\n",
            "you know you know you know you know you know you know you know you know you know you know\n",
            "Enter text:we\n",
            "it ?\n",
            "Enter text:q\n"
          ],
          "name": "stdout"
        }
      ]
    }
  ]
}